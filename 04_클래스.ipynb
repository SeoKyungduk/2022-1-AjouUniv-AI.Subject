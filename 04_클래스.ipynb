{
 "cells": [
  {
   "cell_type": "markdown",
   "id": "51db8d59",
   "metadata": {},
   "source": [
    "# 클래스 - class"
   ]
  },
  {
   "cell_type": "markdown",
   "id": "bb588da6",
   "metadata": {},
   "source": [
    "- 파이썬 클래스는 class 키워드를 사용하여 자신만의 데이터타입을 만들 수 있음"
   ]
  },
  {
   "cell_type": "markdown",
   "id": "7f7a4ee3",
   "metadata": {},
   "source": [
    "class 클래스이름:  \n",
    "    def __init__(self, 인수, ...):     # 생성자  \n",
    "    def 메소드이름(self, 인수, ...):   # 메소드"
   ]
  },
  {
   "cell_type": "markdown",
   "id": "77dfc92c",
   "metadata": {},
   "source": [
    "- 파이썬 클래스에서는 __init__ 메소드가 생성자 (constructor) 역할을 수행하여, 인스턴스가 만들어 질 때 한 번만 호출됨.\n",
    "- 파이썬에서는 클래스 메소드의 첫 번째 인수로 '자신의 인스턴스'를 나타내는 self를 반드시 기술해야 함.\n",
    "- 기본적으로 파이썬에서는 메소드와 속성 모두 public"
   ]
  },
  {
   "cell_type": "code",
   "execution_count": 2,
   "id": "08808fa1",
   "metadata": {},
   "outputs": [
    {
     "name": "stdout",
     "output_type": "stream",
     "text": [
      "PARK is initialized\n",
      "PARK is working in ABCDEF\n",
      "PARK is sleeping\n",
      "current preson object is  PARK\n"
     ]
    }
   ],
   "source": [
    "class Person:\n",
    "    \n",
    "    def __init__(self, name):\n",
    "        self.name = name\n",
    "        print(self.name + \" is initialized\")\n",
    "    \n",
    "    def work(self, company):\n",
    "        print(self.name + \" is working in \" + company)\n",
    "    \n",
    "    def sleep(self):\n",
    "        print(self.name + \" is sleeping\")\n",
    "\n",
    "# Person instance 2개 생성\n",
    "obj = Person(\"PARK\")\n",
    "\n",
    "# method call\n",
    "obj.work(\"ABCDEF\")\n",
    "obj.sleep()\n",
    "\n",
    "# 속성에 직접 접근, 기본적으로 파이썬에서는 모두 public\n",
    "print(\"current preson object is \", obj.name)"
   ]
  },
  {
   "cell_type": "markdown",
   "id": "1e3650c3",
   "metadata": {},
   "source": [
    "- 클래스 변수(class variable)는 해당 클래스로 생성된 모든 인스턴스가 공동으로 사용하는 변수임.\n",
    "- => 클래스 변수는 클래스 내부에서 \"클래스명.클래스 변수 명\"으로 접근 할 수 있음.\n",
    "- 클래스 메소드(class method)는 메소드 앞에 @classmethod를 반드시 표시하여 해당 메소드가 클래스 메소드임을 표시함.\n",
    "- => 클래스 메소드는 객체 인스턴스를 의미하는 self 대신 cls라는 클래스를 의미하는 파라미터를 인수로 전달받음."
   ]
  },
  {
   "cell_type": "code",
   "execution_count": 5,
   "id": "ef7f3eb3",
   "metadata": {},
   "outputs": [
    {
     "name": "stdout",
     "output_type": "stream",
     "text": [
      "PARK is initialized\n",
      "KIM is initialized\n",
      "PARK is working in ABCDEF\n",
      "KIM is sleeping\n",
      "current person object is  PARK ,  KIM\n",
      "Person count == 2\n",
      "2\n",
      "2\n",
      "2\n"
     ]
    }
   ],
   "source": [
    "class Person:\n",
    "    \n",
    "    count = 0 # class variable\n",
    "    \n",
    "    def __init__(self, name):\n",
    "        self.name = name\n",
    "        Person.count += 1 # class 변수 count 증가 => 2\n",
    "        print(self.name + \" is initialized\")\n",
    "        \n",
    "    def work(self, company):\n",
    "        print(self.name + \" is working in \" + company)\n",
    "    \n",
    "    def sleep(self):\n",
    "        print(self.name + \" is sleeping\")\n",
    "    \n",
    "    @classmethod\n",
    "    def getCount(cls): # class method\n",
    "        return cls.count # obj1, obj2 총 2개 생성되었으므로 2\n",
    "\n",
    "# Person instance 2개 생성\n",
    "obj1 = Person(\"PARK\")\n",
    "obj2 = Person(\"KIM\")\n",
    "\n",
    "# method call\n",
    "obj1.work(\"ABCDEF\")\n",
    "\n",
    "obj2.sleep()\n",
    "\n",
    "# 속성에 직접 접근. 기본적으로 파이썬에서는 모두 public\n",
    "print(\"current person object is \", obj1.name, \", \", obj2.name)\n",
    "\n",
    "# class method 호출\n",
    "print(\"Person count ==\", Person.getCount())\n",
    "\n",
    "# class variable direct access\n",
    "print(Person.count)\n",
    "print(obj1.count)\n",
    "print(obj2.count)"
   ]
  },
  {
   "cell_type": "markdown",
   "id": "129f49ae",
   "metadata": {},
   "source": [
    "- 파이썬은 기본적으로 모든 멤버가 public이기 때문에, 외부에서 직접 접근 가능함.\n",
    "- 멤버변수(variable). 멤버메소드(method)를 멤버변수.__멤버메소드 형태로 선언한다면 private으로 설정할 수 있음."
   ]
  },
  {
   "cell_type": "code",
   "execution_count": 12,
   "id": "1bf63069",
   "metadata": {},
   "outputs": [
    {
     "name": "stdout",
     "output_type": "stream",
     "text": [
      "initialized with PARK ,KIM\n",
      "PARK\n",
      "PARK KIM\n",
      "('PARK', 'KIM')\n"
     ]
    },
    {
     "ename": "AttributeError",
     "evalue": "'PrivateMemberTest' object has no attribute '__printNames'",
     "output_type": "error",
     "traceback": [
      "\u001b[1;31m---------------------------------------------------------------------------\u001b[0m",
      "\u001b[1;31mAttributeError\u001b[0m                            Traceback (most recent call last)",
      "\u001b[1;32m~\\AppData\\Local\\Temp/ipykernel_27364/1917728422.py\u001b[0m in \u001b[0;36m<module>\u001b[1;34m\u001b[0m\n\u001b[0;32m     19\u001b[0m \u001b[0mprint\u001b[0m\u001b[1;33m(\u001b[0m\u001b[0mobj\u001b[0m\u001b[1;33m.\u001b[0m\u001b[0mname1\u001b[0m\u001b[1;33m)\u001b[0m\u001b[1;33m\u001b[0m\u001b[1;33m\u001b[0m\u001b[0m\n\u001b[0;32m     20\u001b[0m \u001b[0mprint\u001b[0m\u001b[1;33m(\u001b[0m\u001b[0mobj\u001b[0m\u001b[1;33m.\u001b[0m\u001b[0mgetNames\u001b[0m\u001b[1;33m(\u001b[0m\u001b[1;33m)\u001b[0m\u001b[1;33m)\u001b[0m\u001b[1;33m\u001b[0m\u001b[1;33m\u001b[0m\u001b[0m\n\u001b[1;32m---> 21\u001b[1;33m \u001b[0mprint\u001b[0m\u001b[1;33m(\u001b[0m\u001b[0mobj\u001b[0m\u001b[1;33m.\u001b[0m\u001b[0m__printNames\u001b[0m\u001b[1;33m(\u001b[0m\u001b[1;33m)\u001b[0m\u001b[1;33m)\u001b[0m \u001b[1;31m# error 발생, 외부에서 호출하려고 하면 에러가 발생함\u001b[0m\u001b[1;33m\u001b[0m\u001b[1;33m\u001b[0m\u001b[0m\n\u001b[0m\u001b[0;32m     22\u001b[0m \u001b[0mprint\u001b[0m\u001b[1;33m(\u001b[0m\u001b[0mobj\u001b[0m\u001b[1;33m.\u001b[0m\u001b[0m__name2\u001b[0m\u001b[1;33m)\u001b[0m        \u001b[1;31m# error 발생, 외부에서 호출하려고 하면 에러가 발생함\u001b[0m\u001b[1;33m\u001b[0m\u001b[1;33m\u001b[0m\u001b[0m\n",
      "\u001b[1;31mAttributeError\u001b[0m: 'PrivateMemberTest' object has no attribute '__printNames'"
     ]
    }
   ],
   "source": [
    "class PrivateMemberTest:\n",
    "    \n",
    "    def __init__(self, name1, name2):\n",
    "        \n",
    "        self.name1 = name1\n",
    "        self.__name2 = name2 # private member variable\n",
    "        print(\"initialized with \" + name1 + \" ,\" + name2)\n",
    "        \n",
    "    def getNames(self):\n",
    "        self.__printNames()\n",
    "        return self.name1, self.__name2\n",
    "    \n",
    "    def __printNames(self): # private member method\n",
    "        print(self.name1, self.__name2)\n",
    "\n",
    "# 인스턴스 생성\n",
    "obj = PrivateMemberTest(\"PARK\", \"KIM\")\n",
    "\n",
    "print(obj.name1)\n",
    "print(obj.getNames())\n",
    "print(obj.__printNames()) # error 발생, 외부에서 호출하려고 하면 에러가 발생함\n",
    "print(obj.__name2)        # error 발생, 외부에서 호출하려고 하면 에러가 발생함"
   ]
  },
  {
   "cell_type": "markdown",
   "id": "21491e8c",
   "metadata": {},
   "source": [
    "- 외부함수와 클래스 method name이 같은 경우\n",
    "- => C++, Java 언어의 this 처럼 self를 통해 method 호출\n",
    "- => self를 붙이지 않으면 동일한 이름의 외부 함수 호출됨"
   ]
  },
  {
   "cell_type": "code",
   "execution_count": 13,
   "id": "681de5a1",
   "metadata": {},
   "outputs": [
    {
     "name": "stdout",
     "output_type": "stream",
     "text": [
      "[def]  LEE\n",
      "[SameTest]  LEE\n",
      "[def]  KIM\n",
      "[SameTest]  KIM\n"
     ]
    }
   ],
   "source": [
    "def print_name(name):\n",
    "    \n",
    "    print(\"[def] \", name)\n",
    "\n",
    "class SameTest:\n",
    "    \n",
    "    def __init__(self):\n",
    "        # 아무것도 않하기 때문에 pass\n",
    "        pass\n",
    "    \n",
    "    # 외부 함수와 동일한 이름으로 method 정의\n",
    "    def print_name(self, name):\n",
    "        print('[SameTest] ', name)\n",
    "    \n",
    "    def call_test(self):\n",
    "        \n",
    "        # 외부 함수 호출\n",
    "        print_name(\"KIM\")\n",
    "        \n",
    "        # 클래스 내부 method 호출\n",
    "        self.print_name(\"KIM\")\n",
    "\n",
    "# create SameTest object\n",
    "obj = SameTest()\n",
    "\n",
    "# call function print_name\n",
    "print_name(\"LEE\")\n",
    "\n",
    "# call method print_name\n",
    "obj.print_name(\"LEE\")\n",
    "\n",
    "# call method call_test\n",
    "obj.call_test()"
   ]
  },
  {
   "cell_type": "markdown",
   "id": "cf766f8e",
   "metadata": {},
   "source": [
    "# 예외처리 - exception"
   ]
  },
  {
   "cell_type": "markdown",
   "id": "80be1b2f",
   "metadata": {},
   "source": [
    "- 파이썬 exception은 try...except문을 사용함.Try 블록에서 에러가 발생 시 except 문으로 이동하여 예외처리 수행\n",
    "- 발생된 exception을 그냥 무시하기 위해서는 보통 pass문을 사용하며, 또한 개발자가 에러를 던지기 위해서는 raise문을 사용함\n",
    "- try 문은 또한 finally 문을 가질수도 있는데, finally 블록은 try 블록이 정상적으로 실행되든, 에러가 발생하여 except이 실행되든 항상 마지막에 실행됨"
   ]
  },
  {
   "cell_type": "code",
   "execution_count": 14,
   "id": "4167e21b",
   "metadata": {},
   "outputs": [],
   "source": [
    "def calc(list_data):\n",
    "    \n",
    "    sum = 0\n",
    "    \n",
    "    try:\n",
    "        sum = list_data[0] + list_data[1] + list_data[2]\n",
    "        \n",
    "        if sum < 0:\n",
    "            raise Exception(\"Sum is minus\")\n",
    "    \n",
    "    except IndexError as err:\n",
    "        print(str(err))\n",
    "    except Exception as err:\n",
    "        print(str(err))\n",
    "    finally:\n",
    "        print(sum)"
   ]
  },
  {
   "cell_type": "code",
   "execution_count": 16,
   "id": "e09f674e",
   "metadata": {},
   "outputs": [
    {
     "name": "stdout",
     "output_type": "stream",
     "text": [
      "list index out of range\n",
      "0\n"
     ]
    }
   ],
   "source": [
    "calc([1, 2]) # index error 발생"
   ]
  },
  {
   "cell_type": "code",
   "execution_count": 18,
   "id": "985c8db1",
   "metadata": {},
   "outputs": [
    {
     "name": "stdout",
     "output_type": "stream",
     "text": [
      "Sum is minus\n",
      "-97\n"
     ]
    }
   ],
   "source": [
    "calc([1, 2, -100]) # 인위적인 exception 발생"
   ]
  },
  {
   "cell_type": "markdown",
   "id": "c2ea2d80",
   "metadata": {},
   "source": [
    "# with 구문"
   ]
  },
  {
   "cell_type": "markdown",
   "id": "a3780046",
   "metadata": {},
   "source": [
    "- 일반적으로 파일(file) 또는 세션(session)을 사용하는 순서는 다음과 같음.\n",
    "- => open() => read() 또는 write() => close()\n",
    "- 그러나 파이썬에서 with 구문을 사용하면 명시적으로 리소스 close()를 해주지 않아도 자동으로 close() 해주는 기능이 있음. with 블록을 벗어나는 순간 파일이나 세션 등의 리소스를 자동으로 close 시킴\n",
    "- => 딥러닝 프레임워크인 TensorFlow의 session 사용시 자주 사용됨"
   ]
  },
  {
   "cell_type": "code",
   "execution_count": 19,
   "id": "9a83bf5e",
   "metadata": {},
   "outputs": [],
   "source": [
    "# 일반적인 방법\n",
    "f = open(\"./file_test\", \"w\") # w = write\n",
    "\n",
    "f.write(\"Hello, Python !!!\")\n",
    "\n",
    "f.close()"
   ]
  },
  {
   "cell_type": "code",
   "execution_count": 20,
   "id": "a4aca4de",
   "metadata": {},
   "outputs": [],
   "source": [
    "# with 구문을 사용한 방법\n",
    "# with 블록을 벗어나는 순간 파일 객체 f가 자동으로 close 됨.\n",
    "\n",
    "with open(\"./file_test\", \"w\") as f:\n",
    "    f.write(\"Hello, Python !!!\")"
   ]
  },
  {
   "cell_type": "code",
   "execution_count": null,
   "id": "978debd1",
   "metadata": {},
   "outputs": [],
   "source": []
  }
 ],
 "metadata": {
  "kernelspec": {
   "display_name": "Python 3 (ipykernel)",
   "language": "python",
   "name": "python3"
  },
  "language_info": {
   "codemirror_mode": {
    "name": "ipython",
    "version": 3
   },
   "file_extension": ".py",
   "mimetype": "text/x-python",
   "name": "python",
   "nbconvert_exporter": "python",
   "pygments_lexer": "ipython3",
   "version": "3.9.6"
  }
 },
 "nbformat": 4,
 "nbformat_minor": 5
}
