{
 "cells": [
  {
   "cell_type": "markdown",
   "id": "727a177d",
   "metadata": {},
   "source": [
    "# 함수 - function"
   ]
  },
  {
   "cell_type": "markdown",
   "id": "9e333e10",
   "metadata": {},
   "source": [
    "### 함수 정리\n",
    "=> 특정 기능을 수행하는 함수(function)는 파이썬에서 다음과 같이 정의함.\n",
    "\n",
    "def 함수 이름 (입력1, 입력2, ...):"
   ]
  },
  {
   "cell_type": "code",
   "execution_count": 3,
   "id": "d2cffdff",
   "metadata": {},
   "outputs": [
    {
     "name": "stdout",
     "output_type": "stream",
     "text": [
      "30\n"
     ]
    }
   ],
   "source": [
    "def sum(x, y):\n",
    "    s = x + y\n",
    "    return s\n",
    "\n",
    "result = sum(10, 20)\n",
    "print(result)"
   ]
  },
  {
   "cell_type": "markdown",
   "id": "398c1ad4",
   "metadata": {},
   "source": [
    "### 함수 변환 값\n",
    "=> 파이썬 함수는 한 개 이상의 return 값을 반환 할 수 있음. return 값은 콤마(,)로 분리하여 받거나 tuple 형태로 받을 수 있음."
   ]
  },
  {
   "cell_type": "code",
   "execution_count": 7,
   "id": "0953137a",
   "metadata": {},
   "outputs": [
    {
     "name": "stdout",
     "output_type": "stream",
     "text": [
      "101 102 103\n"
     ]
    }
   ],
   "source": [
    "def multi_ret_func(x):\n",
    "    return x+1, x+2, x+3  # return (x+1, x+2, x+3)\n",
    "\n",
    "x = 100\n",
    "y1, y2, y3 = multi_ret_func(x) # (y1, y2, y3) = multi_ret_func(x)\n",
    "\n",
    "print(y1, y2, y3)"
   ]
  },
  {
   "cell_type": "markdown",
   "id": "cb754c08",
   "metadata": {},
   "source": [
    "### default parameter\n",
    "=> 함수의 입력 파라미터에 기본 값을 지정하는 것을 뜻함  \n",
    "=> 이러한 디폴트 파라미터는, 함수가 호출되었을 경우 입력 파라미터에 명시적인 값이 전달되지 않으면 기본으로 지정한 값을 사용하겠다는 의미"
   ]
  },
  {
   "cell_type": "code",
   "execution_count": 9,
   "id": "2577371b",
   "metadata": {},
   "outputs": [
    {
     "name": "stdout",
     "output_type": "stream",
     "text": [
      "name == DAVE\n",
      "name == DAVE\n"
     ]
    }
   ],
   "source": [
    "# 파이썬 default parameter\n",
    "\n",
    "def print_name(name, count = 2):\n",
    "    for i in range(count):\n",
    "        print(\"name ==\", name)\n",
    "\n",
    "print_name(\"DAVE\") # print_name(\"DAVE\", 5)"
   ]
  },
  {
   "cell_type": "markdown",
   "id": "8f715805",
   "metadata": {},
   "source": [
    "### mutable / immutable parameter\n",
    "=> 입력 파라미터가 mutable (list, dict, numpy 등) 데이터형인 경우는 원래의 데이터에 변형이 일어남  \n",
    "=> immutable (숫자, 문자, tuple 등)은 원래의 데이터에 변형이 일어나지 않음"
   ]
  },
  {
   "cell_type": "code",
   "execution_count": 12,
   "id": "c9f18a0a",
   "metadata": {},
   "outputs": [
    {
     "name": "stdout",
     "output_type": "stream",
     "text": [
      "x == 1 , test_list == [1, 2, 3, 100]\n"
     ]
    }
   ],
   "source": [
    "# mutable(변형 가능한), immutable parameter(변형이 불가능함)\n",
    "\n",
    "def mutable_immutable_func(int_x, input_list):\n",
    "    \n",
    "    int_x += 1 # int_x = int_x + 1\n",
    "    input_list.append(100)\n",
    "\n",
    "x = 1\n",
    "test_list = [1, 2, 3]\n",
    "\n",
    "mutable_immutable_func(x, test_list)\n",
    "\n",
    "print(\"x ==\", x, \", test_list ==\", test_list)"
   ]
  },
  {
   "cell_type": "markdown",
   "id": "5e9f1e46",
   "metadata": {},
   "source": [
    "# 함수 - lamba"
   ]
  },
  {
   "cell_type": "markdown",
   "id": "7d749e6d",
   "metadata": {},
   "source": [
    "=> 람다(lambd)는 한 줄로 작성하는 방법으로, 익명(anonymous)함수 또는 람다표현식(lambda expression) 등으로 불림  \n",
    "=> Lambd는 다른 함수의 인수(parameter)로 넣을 때 주로 사용하며, 특히 머신러닝에서 미분을 계산하기 위해 필요한 수치 미분(numerical derivative)과 활성화 함수(activation function)등을 표현할 때, 수학에서 함수 표현처럼 f(x), f(x, y) 등으로 사용되며, 마지막 표현으로 대체 된다는 의미"
   ]
  },
  {
   "cell_type": "code",
   "execution_count": 22,
   "id": "e49f5ab8",
   "metadata": {},
   "outputs": [
    {
     "name": "stdout",
     "output_type": "stream",
     "text": [
      "100\n",
      "101\n",
      "102\n"
     ]
    }
   ],
   "source": [
    "# lambda 함수 선언\n",
    "\n",
    "f = lambda x : x + 100 # 수학 함수표현 f(x)를 x + 100으로 대체 된다는 의미\n",
    "\n",
    "for i in range(3):\n",
    "    print(f(i)) # f(0), f(1), f(2)"
   ]
  },
  {
   "cell_type": "code",
   "execution_count": 25,
   "id": "eb540ff1",
   "metadata": {},
   "outputs": [
    {
     "name": "stdout",
     "output_type": "stream",
     "text": [
      "input == 100 , input2 == 200\n",
      "hello python\n"
     ]
    }
   ],
   "source": [
    "# lambda 에서 입력값을 반드시 이용할 필요는 없음\n",
    "\n",
    "def print_hello():\n",
    "    print(\"hello python\")\n",
    "\n",
    "def test_lambda(s, t):\n",
    "    print(\"input ==\", s, \", input2 ==\", t)\n",
    "\n",
    "s = 100 # 생각해보기 => s, t 선언 및 값 할당이 없으면 error\n",
    "t = 200\n",
    "\n",
    "fx = lambda x, y : test_lambda(s, t) # fx(x, y) = test_lambda(s, t)\n",
    "fy = lambda x, y : print_hello()     # fy(x, y) = print_hello()\n",
    "\n",
    "fx(500, 1000) # fx(500, 1000) = test_lambda(s, t)\n",
    "fy(300, 600)  # fy(300, 600)  = print_hello()"
   ]
  },
  {
   "cell_type": "code",
   "execution_count": null,
   "id": "c70dc646",
   "metadata": {},
   "outputs": [],
   "source": [
    "\n"
   ]
  }
 ],
 "metadata": {
  "kernelspec": {
   "display_name": "Python 3 (ipykernel)",
   "language": "python",
   "name": "python3"
  },
  "language_info": {
   "codemirror_mode": {
    "name": "ipython",
    "version": 3
   },
   "file_extension": ".py",
   "mimetype": "text/x-python",
   "name": "python",
   "nbconvert_exporter": "python",
   "pygments_lexer": "ipython3",
   "version": "3.9.6"
  }
 },
 "nbformat": 4,
 "nbformat_minor": 5
}
