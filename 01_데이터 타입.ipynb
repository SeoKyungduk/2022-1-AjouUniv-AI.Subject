{
 "cells": [
  {
   "cell_type": "markdown",
   "id": "a8237e54",
   "metadata": {},
   "source": [
    "# 리스트(List)"
   ]
  },
  {
   "cell_type": "code",
   "execution_count": 6,
   "id": "cf5a041b",
   "metadata": {},
   "outputs": [],
   "source": [
    "# 리스트(list)는 다른 프로그래밍 언어의 '배열(array)'과 비슷한 성질을 가는 데이터 타입\n",
    "# 리스트(list) 인덱스는 0 부터 시작하며, 파이썬에서는 마이너스(-) 인덱스를 지원하여 리스트의 마지막부터 연순으로 값을 참조할 수 있음"
   ]
  },
  {
   "cell_type": "code",
   "execution_count": 7,
   "id": "7283b910",
   "metadata": {},
   "outputs": [],
   "source": [
    "a = [10, 20, 30, 40, 50]"
   ]
  },
  {
   "cell_type": "code",
   "execution_count": 8,
   "id": "e9c5e790",
   "metadata": {},
   "outputs": [
    {
     "name": "stdout",
     "output_type": "stream",
     "text": [
      "a[0] == 10 , a[2] == 30 , a[4] == 50\n",
      "a[-1] == 50 , a[-2] == 40 , a[-5] == 10\n"
     ]
    }
   ],
   "source": [
    "# 0, 1, 2, ... 인덱스는 리스트 처음부터 시작\n",
    "# -1, -2, ... 인덱스는 리스트 마지막부터 시작\n",
    "\n",
    "print(\"a[0] ==\", a[0], \", a[2] ==\", a[2], \", a[4] ==\", a[4])\n",
    "print(\"a[-1] ==\", a[-1], \", a[-2] ==\", a[-2], \", a[-5] ==\", a[-5])"
   ]
  },
  {
   "cell_type": "code",
   "execution_count": 9,
   "id": "d9089386",
   "metadata": {},
   "outputs": [],
   "source": [
    "# 리스트(list) 각 요소의 데이터타입을 다르게 해서 생성할 수 있으며, 리스트 안에 또 다른 리스트를 포함할 수도 있음."
   ]
  },
  {
   "cell_type": "code",
   "execution_count": 10,
   "id": "aa1c3a32",
   "metadata": {},
   "outputs": [],
   "source": [
    "b = [10, 20, \"Hello\", [True, 3.14]]"
   ]
  },
  {
   "cell_type": "code",
   "execution_count": 11,
   "id": "15ef8dbf",
   "metadata": {},
   "outputs": [
    {
     "name": "stdout",
     "output_type": "stream",
     "text": [
      "b[0] == 10 , b[2] == Hello , b[3] == [True, 3.14]\n",
      "b[-1] == [True, 3.14] , b[-2] == Hello , b[-4] == 10\n"
     ]
    }
   ],
   "source": [
    "# b[3] 또는 b[-1] 값은 [True, 3.14] 리스트 전체임\n",
    "\n",
    "print(\"b[0] ==\", b[0], \", b[2] ==\", b[2], \", b[3] ==\", b[3])\n",
    "print(\"b[-1] ==\", b[-1], \", b[-2] ==\", b[-2], \", b[-4] ==\", b[-4])"
   ]
  },
  {
   "cell_type": "code",
   "execution_count": 12,
   "id": "e156704c",
   "metadata": {},
   "outputs": [
    {
     "name": "stdout",
     "output_type": "stream",
     "text": [
      "b[3][0] == True , b[3][1] == 3.14\n",
      "b[-1][1] == 3.14 , b[-1][-2] == True\n"
     ]
    }
   ],
   "source": [
    "print(\"b[3][0] ==\", b[3][0], \", b[3][1] ==\", b[3][1])\n",
    "print(\"b[-1][1] ==\", b[-1][1], \", b[-1][-2] ==\", b[-1][-2])"
   ]
  },
  {
   "cell_type": "code",
   "execution_count": 13,
   "id": "6732ff09",
   "metadata": {},
   "outputs": [],
   "source": [
    "# 빈 리스트(list) 생성 후 append method를 이용하여 데이터 추가(머신러닝 코드에서 정확도 계산, 손실함수 값 저장하기 위해 사용)"
   ]
  },
  {
   "cell_type": "code",
   "execution_count": 16,
   "id": "fc14877f",
   "metadata": {},
   "outputs": [
    {
     "name": "stdout",
     "output_type": "stream",
     "text": [
      "[100, 200, 300]\n"
     ]
    }
   ],
   "source": [
    "c = []\n",
    "c.append(100), c.append(200), c.append(300)\n",
    "print(c)"
   ]
  },
  {
   "cell_type": "code",
   "execution_count": 15,
   "id": "7103f070",
   "metadata": {},
   "outputs": [],
   "source": [
    "# 파이썬 리스트(list)에는 콜론(:)을 이용하여 '슬라이싱' 기능이 있음. 슬라이싱을 이용하면 범위를 지정해 부분 리스트를 얻을 수 있음\n",
    "# 머신러닝을 위해서는 반드시 알아야하는 기능임"
   ]
  },
  {
   "cell_type": "code",
   "execution_count": 24,
   "id": "4406edc0",
   "metadata": {},
   "outputs": [],
   "source": [
    "a = [10, 20, 30, 40, 50]"
   ]
  },
  {
   "cell_type": "code",
   "execution_count": 25,
   "id": "302752af",
   "metadata": {},
   "outputs": [
    {
     "name": "stdout",
     "output_type": "stream",
     "text": [
      "a[0:2] == [10, 20] , a[1:] == [20, 30, 40, 50]\n",
      "a[:3] == [10, 20, 30] , a[:-2] == [10, 20, 30]\n",
      "a[:] == [10, 20, 30, 40, 50]\n"
     ]
    }
   ],
   "source": [
    "# a[0:2] => 인덱스는 0부터 2-1 까지, a[1:] => 인덱스 1부터 끝까지\n",
    "# a[:3] => 인덱스는 처음부터 3-1 까지, a[:-2] => 인덱스 처음부터 -2-1까지\n",
    "# a[:] => 인덱스 처음부터 끝까지\n",
    "\n",
    "print(\"a[0:2] ==\", a[0:2], \", a[1:] ==\", a[1:])\n",
    "print(\"a[:3] ==\", a[:3], \", a[:-2] ==\", a[:-2])\n",
    "print(\"a[:] ==\", a[:])"
   ]
  },
  {
   "cell_type": "markdown",
   "id": "92072f2c",
   "metadata": {},
   "source": [
    "# 튜플(tuple)"
   ]
  },
  {
   "cell_type": "code",
   "execution_count": 17,
   "id": "9d3030f4",
   "metadata": {},
   "outputs": [],
   "source": [
    "# 튜플(tuple)은 리스트(list)와 거의 비슷하며 다른 점은 다음과 같음\n",
    "# 리스트는 []으로 둘러 싸여 있지만 튜플은 ()으로 둘러싸여 있다.\n",
    "# 리스트 내의 원소를 변경할 수 있지만 튜플은 변경할 수 없다."
   ]
  },
  {
   "cell_type": "code",
   "execution_count": 26,
   "id": "81485a1c",
   "metadata": {},
   "outputs": [],
   "source": [
    "a = (10, 20, 30, 40, 50)"
   ]
  },
  {
   "cell_type": "code",
   "execution_count": 27,
   "id": "967c4c44",
   "metadata": {},
   "outputs": [
    {
     "name": "stdout",
     "output_type": "stream",
     "text": [
      "a[0] == 10 , a[-2] == 40 , a[:] == (10, 20, 30, 40, 50)\n",
      "a[0:2] == (10, 20) , a[1:] == (20, 30, 40, 50)\n"
     ]
    }
   ],
   "source": [
    "print(\"a[0] ==\", a[0], \", a[-2] ==\", a[-2], \", a[:] ==\", a[:])\n",
    "print(\"a[0:2] ==\", a[0:2], \", a[1:] ==\", a[1:])"
   ]
  },
  {
   "cell_type": "code",
   "execution_count": 29,
   "id": "d20adf2a",
   "metadata": {},
   "outputs": [
    {
     "ename": "TypeError",
     "evalue": "'tuple' object does not support item assignment",
     "output_type": "error",
     "traceback": [
      "\u001b[1;31m---------------------------------------------------------------------------\u001b[0m",
      "\u001b[1;31mTypeError\u001b[0m                                 Traceback (most recent call last)",
      "\u001b[1;32m~\\AppData\\Local\\Temp/ipykernel_11896/1185840814.py\u001b[0m in \u001b[0;36m<module>\u001b[1;34m\u001b[0m\n\u001b[1;32m----> 1\u001b[1;33m \u001b[0ma\u001b[0m\u001b[1;33m[\u001b[0m\u001b[1;36m0\u001b[0m\u001b[1;33m]\u001b[0m \u001b[1;33m=\u001b[0m \u001b[1;36m100\u001b[0m \u001b[1;31m# 튜플은 값을 수정할 수 없음\u001b[0m\u001b[1;33m\u001b[0m\u001b[1;33m\u001b[0m\u001b[0m\n\u001b[0m",
      "\u001b[1;31mTypeError\u001b[0m: 'tuple' object does not support item assignment"
     ]
    }
   ],
   "source": [
    "a[0] = 100 # 튜플은 값을 수정할 수 없음"
   ]
  },
  {
   "cell_type": "markdown",
   "id": "2ad6e62b",
   "metadata": {},
   "source": [
    "# 딕셔너리(dictionary)"
   ]
  },
  {
   "cell_type": "code",
   "execution_count": 18,
   "id": "caf5de29",
   "metadata": {},
   "outputs": [],
   "source": [
    "# 딕셔너리(dictionary)는 다른 프로그래밍 언어의 '해시(hash)' 또는 '맵(map)'과 구조가 비슷.\n",
    "# 딕셔너리 키(key)와 값(value)을 한 쌍으로 해서 데이터를 저장함."
   ]
  },
  {
   "cell_type": "code",
   "execution_count": 30,
   "id": "e3343cc1",
   "metadata": {},
   "outputs": [],
   "source": [
    "score = {\"KIM\":90, \"LEE\":85, \"JUN\":95} # dictionary 생성"
   ]
  },
  {
   "cell_type": "code",
   "execution_count": 32,
   "id": "19f3e4f1",
   "metadata": {},
   "outputs": [
    {
     "name": "stdout",
     "output_type": "stream",
     "text": [
      "score[\"KIM\"] == 90\n"
     ]
    }
   ],
   "source": [
    "print('score[\"KIM\"] ==', score['KIM']) # 원소 접근"
   ]
  },
  {
   "cell_type": "code",
   "execution_count": 33,
   "id": "92b21652",
   "metadata": {},
   "outputs": [
    {
     "name": "stdout",
     "output_type": "stream",
     "text": [
      "{'KIM': 90, 'LEE': 85, 'JUN': 95, 'HAN': 100}\n"
     ]
    }
   ],
   "source": [
    "score[\"HAN\"] = 100 # 새 원소 추가\n",
    "# Python 3.6 이후부터 딕셔너리 역시 리스트와 마찬가지로 입력한 순서대로 데이터가 들어가도록 변경됨\n",
    "print(score)"
   ]
  },
  {
   "cell_type": "code",
   "execution_count": 35,
   "id": "47e7573b",
   "metadata": {},
   "outputs": [
    {
     "name": "stdout",
     "output_type": "stream",
     "text": [
      "score key == dict_keys(['KIM', 'LEE', 'JUN', 'HAN'])\n",
      "score value == dict_values([90, 85, 95, 100])\n",
      "score items == dict_items([('KIM', 90), ('LEE', 85), ('JUN', 95), ('HAN', 100)])\n",
      "<class 'dict_keys'>\n",
      "<class 'dict_values'>\n",
      "<class 'dict_items'>\n"
     ]
    }
   ],
   "source": [
    "# 딕셔너리 key, value, (key, value)\n",
    "\n",
    "print(\"score key ==\", score.keys())\n",
    "print(\"score value ==\", score.values())\n",
    "print(\"score items ==\", score.items())\n",
    "\n",
    "print(type(score.keys()))\n",
    "print(type(score.values()))\n",
    "print(type(score.items()))"
   ]
  },
  {
   "cell_type": "markdown",
   "id": "e4d4f872",
   "metadata": {},
   "source": [
    "# 스트링(string)"
   ]
  },
  {
   "cell_type": "code",
   "execution_count": 19,
   "id": "39301a89",
   "metadata": {},
   "outputs": [],
   "source": [
    "# 파이썬 문자열(string)은 홑따옴표('') 또는 쌍따옴표(\"\")를 사용해서 생성\n",
    "# 문자열 내의 각각의 값 또한 문자열로 인식되며, \n",
    "# 문자열을 분리하여 list로 변환하는 split() 함수는 머신러닝 코드에서 문자열 데이터 전처리 (pre-process) 하기 위해 사용됨"
   ]
  },
  {
   "cell_type": "code",
   "execution_count": 36,
   "id": "7f9dbb00",
   "metadata": {},
   "outputs": [],
   "source": [
    "a = 'A73,CD'"
   ]
  },
  {
   "cell_type": "code",
   "execution_count": 37,
   "id": "8b56572e",
   "metadata": {},
   "outputs": [
    {
     "data": {
      "text/plain": [
       "'7'"
      ]
     },
     "execution_count": 37,
     "metadata": {},
     "output_type": "execute_result"
    }
   ],
   "source": [
    "a[1] # a[1] 은 숫자 7이 아닌 문자열 7"
   ]
  },
  {
   "cell_type": "code",
   "execution_count": 38,
   "id": "f91aa886",
   "metadata": {},
   "outputs": [
    {
     "data": {
      "text/plain": [
       "'A73,CD, EFG'"
      ]
     },
     "execution_count": 38,
     "metadata": {},
     "output_type": "execute_result"
    }
   ],
   "source": [
    "a = a + ', EFG' # + 연산자 사용\n",
    "a"
   ]
  },
  {
   "cell_type": "code",
   "execution_count": 39,
   "id": "e1b8c4e6",
   "metadata": {},
   "outputs": [
    {
     "name": "stdout",
     "output_type": "stream",
     "text": [
      "['A73', 'CD', ' EFG']\n"
     ]
    }
   ],
   "source": [
    "# split() 메소드는 특정 seperator를 기준으로 문자열을 분리하여 list 리턴\n",
    "\n",
    "b = a.split(',')\n",
    "print(b)"
   ]
  },
  {
   "cell_type": "markdown",
   "id": "f44169a3",
   "metadata": {},
   "source": [
    "# type(), len()"
   ]
  },
  {
   "cell_type": "code",
   "execution_count": 20,
   "id": "9f47ccba",
   "metadata": {},
   "outputs": [],
   "source": [
    "# type(data)는 입력 data의 데이터타입을 알려주는 함수\n",
    "# len(data)은 입력 데이터의 길이(요소의 개수)를 알려주는 함수"
   ]
  },
  {
   "cell_type": "code",
   "execution_count": 40,
   "id": "d6db1607",
   "metadata": {},
   "outputs": [
    {
     "name": "stdout",
     "output_type": "stream",
     "text": [
      "<class 'list'> <class 'tuple'> <class 'dict'> <class 'str'> <class 'list'>\n",
      "5 5 2 12 3\n"
     ]
    }
   ],
   "source": [
    "a = [10, 20, 30, 40, 50]\n",
    "b = (10, 20, 30, 40, 50)\n",
    "c = {\"KIM\":90, \"LEE\":80}\n",
    "d = 'Seoul, Korea'\n",
    "e = [[100, 200], [300, 400], [500, 600]]\n",
    "\n",
    "print(type(a), type(b), type(c), type(d), type(e))\n",
    "print(len(a), len(b), len(c), len(d), len(e))"
   ]
  },
  {
   "cell_type": "markdown",
   "id": "22d8c70d",
   "metadata": {},
   "source": [
    "# list(), str(), int()"
   ]
  },
  {
   "cell_type": "code",
   "execution_count": 21,
   "id": "9f3db1b6",
   "metadata": {},
   "outputs": [],
   "source": [
    "# list(data)는 입력 data를 리스트로 만들어 리턴하는 함수"
   ]
  },
  {
   "cell_type": "code",
   "execution_count": 41,
   "id": "3baf31c0",
   "metadata": {},
   "outputs": [
    {
     "name": "stdout",
     "output_type": "stream",
     "text": [
      "['H', 'e', 'l', 'l', 'o'] ['KIM', 'LEE'] [90, 80] [('KIM', 90), ('LEE', 80)]\n"
     ]
    }
   ],
   "source": [
    "a = \"Hello\"\n",
    "b = {\"KIM\":90, \"LEE\":80}\n",
    "\n",
    "print(list(a), list(b.keys()), list(b.values()), list(b.items()))"
   ]
  },
  {
   "cell_type": "code",
   "execution_count": 22,
   "id": "b5894e21",
   "metadata": {},
   "outputs": [],
   "source": [
    "# str(data)은 입력되는 data를 문자열로 변환하여 리턴하는 함수"
   ]
  },
  {
   "cell_type": "code",
   "execution_count": 42,
   "id": "49dbf888",
   "metadata": {},
   "outputs": [
    {
     "data": {
      "text/plain": [
       "'3.14'"
      ]
     },
     "execution_count": 42,
     "metadata": {},
     "output_type": "execute_result"
    }
   ],
   "source": [
    "str(3.14)"
   ]
  },
  {
   "cell_type": "code",
   "execution_count": 43,
   "id": "faaed0a3",
   "metadata": {},
   "outputs": [
    {
     "data": {
      "text/plain": [
       "'100'"
      ]
     },
     "execution_count": 43,
     "metadata": {},
     "output_type": "execute_result"
    }
   ],
   "source": [
    "str('100')"
   ]
  },
  {
   "cell_type": "code",
   "execution_count": 44,
   "id": "04dd66de",
   "metadata": {},
   "outputs": [
    {
     "data": {
      "text/plain": [
       "'[1, 2, 3]'"
      ]
     },
     "execution_count": 44,
     "metadata": {},
     "output_type": "execute_result"
    }
   ],
   "source": [
    "str([1, 2, 3])"
   ]
  },
  {
   "cell_type": "code",
   "execution_count": 23,
   "id": "7bf8d3c9",
   "metadata": {},
   "outputs": [],
   "source": [
    "# int(data)는 문자열 형태로 입력되는 숫자나 소수점이 있는 숫자 등을 정수 형태로 리턴하는 함수"
   ]
  },
  {
   "cell_type": "code",
   "execution_count": 45,
   "id": "48bb2742",
   "metadata": {},
   "outputs": [
    {
     "data": {
      "text/plain": [
       "100"
      ]
     },
     "execution_count": 45,
     "metadata": {},
     "output_type": "execute_result"
    }
   ],
   "source": [
    "int('100')"
   ]
  },
  {
   "cell_type": "code",
   "execution_count": 47,
   "id": "2b7b65cf",
   "metadata": {},
   "outputs": [
    {
     "data": {
      "text/plain": [
       "3"
      ]
     },
     "execution_count": 47,
     "metadata": {},
     "output_type": "execute_result"
    }
   ],
   "source": [
    "int(3.14)"
   ]
  }
 ],
 "metadata": {
  "kernelspec": {
   "display_name": "Python 3 (ipykernel)",
   "language": "python",
   "name": "python3"
  },
  "language_info": {
   "codemirror_mode": {
    "name": "ipython",
    "version": 3
   },
   "file_extension": ".py",
   "mimetype": "text/x-python",
   "name": "python",
   "nbconvert_exporter": "python",
   "pygments_lexer": "ipython3",
   "version": "3.9.6"
  }
 },
 "nbformat": 4,
 "nbformat_minor": 5
}
