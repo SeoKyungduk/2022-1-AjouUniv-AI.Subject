{
 "cells": [
  {
   "cell_type": "markdown",
   "id": "8ce4ef94",
   "metadata": {},
   "source": [
    "# 수치미분 1차 버전 - numerical derivative"
   ]
  },
  {
   "cell_type": "markdown",
   "id": "ee92dccc",
   "metadata": {},
   "source": [
    "- 수치미분은 수학공식을 쓰지 않고 C / 파이썬 등을 이용하여, 주어진 입력 값이 미세하게 변할 때 함수 값 f는 얼마나 변하는지를 계산하는 방법을 지칭"
   ]
  },
  {
   "cell_type": "code",
   "execution_count": 5,
   "id": "e5ec5363",
   "metadata": {},
   "outputs": [],
   "source": [
    "def numerical_derivative(f, x):\n",
    "    \n",
    "    delta_x = 1e-4 # 10^-4\n",
    "    \n",
    "    return (f(x+delta_x) - f(x-delta_x)) / (2 * delta_x)"
   ]
  },
  {
   "cell_type": "code",
   "execution_count": 8,
   "id": "677ab71e",
   "metadata": {},
   "outputs": [],
   "source": [
    "# [예제 1] 함수 f(x) = x^2에서 미분계수 f'(3)을 구하기.\n",
    "# (즉, x = 3에서 값이 미세하게 변할 때, 함수 f는 얼마나 변하는지 계산하라는 의미)"
   ]
  },
  {
   "cell_type": "code",
   "execution_count": 9,
   "id": "9552fc89",
   "metadata": {},
   "outputs": [
    {
     "name": "stdout",
     "output_type": "stream",
     "text": [
      "result == 6.000000000012662\n"
     ]
    }
   ],
   "source": [
    "def my_func(x):\n",
    "    \n",
    "    return x**2\n",
    "\n",
    "def numerical_derivative(f, x):\n",
    "    \n",
    "    delta_x = 1e-4\n",
    "    \n",
    "    return (f(x+delta_x) - f(x-delta_x)) / (2 * delta_x)\n",
    "\n",
    "result = numerical_derivative(my_func, 3)\n",
    "\n",
    "print(\"result ==\", result)"
   ]
  },
  {
   "cell_type": "code",
   "execution_count": 10,
   "id": "7dcea33a",
   "metadata": {},
   "outputs": [],
   "source": [
    "# [예제 2] 함수 f(x) = 3*x*e^x를 미분한 함수를 f'(x)라고 할 경우, f'(2)를 구하기.\n",
    "# (즉, x = 2에서 값이 미세하게 변할 때, 함수 f는 얼마나 변하는지 계산하라는 의미)"
   ]
  },
  {
   "cell_type": "code",
   "execution_count": 12,
   "id": "4ea2c51e",
   "metadata": {},
   "outputs": [
    {
     "name": "stdout",
     "output_type": "stream",
     "text": [
      "result == 66.50150507518049\n"
     ]
    }
   ],
   "source": [
    "# 수치 미분\n",
    "import numpy as np\n",
    "\n",
    "def my_func2(x):\n",
    "    \n",
    "    return 3*x*(np.exp(x))\n",
    "\n",
    "def numerical_derivative(f, x):\n",
    "    \n",
    "    delta_x = 1e-4\n",
    "    \n",
    "    return (f(x+delta_x) - f(x-delta_x)) / (2*delta_x)\n",
    "\n",
    "result = numerical_derivative(my_func2, 2)\n",
    "\n",
    "print(\"result ==\", result)"
   ]
  },
  {
   "cell_type": "code",
   "execution_count": 13,
   "id": "735cd243",
   "metadata": {},
   "outputs": [
    {
     "name": "stdout",
     "output_type": "stream",
     "text": [
      "3*exp(2) + 3*2*exp(2) ==66.50150489037586\n"
     ]
    }
   ],
   "source": [
    "# 수학공식 검증\n",
    "print(\"3*exp(2) + 3*2*exp(2) ==\", end = '')\n",
    "print(3*np.exp(2) + 3*2*np.exp(2))"
   ]
  },
  {
   "cell_type": "markdown",
   "id": "067f35f7",
   "metadata": {},
   "source": [
    "# 수치미분 최종 버전 - numerical derivative"
   ]
  },
  {
   "cell_type": "markdown",
   "id": "87038a51",
   "metadata": {},
   "source": [
    "- 입력 변수가 하나 이상인 다 변수 함수의 경우, 입력변수는 서로 독립적이기 때문에 수치미분 또는 변수의 개수만큼 개별적으로 계산하여야 함."
   ]
  },
  {
   "cell_type": "code",
   "execution_count": 15,
   "id": "50fbaf61",
   "metadata": {},
   "outputs": [],
   "source": [
    "import numpy as np\n",
    "\n",
    "def numerical_derivative(f, x): # 수치미분 debug version\n",
    "    delta_x = 1e-4\n",
    "    grad = np.zeros_like(x)\n",
    "    \n",
    "    it = np.nditer(x, flags = ['muti_index'], op_flags = ['readwrite'])\n",
    "    \n",
    "    while not it.finished:\n",
    "        idx = it.multi_index\n",
    "        \n",
    "        tmp_val = x[idx]\n",
    "        x[idx] = float(tmp_val) + delta_x\n",
    "        fx1 = f(x) # f(x+delta_x)\n",
    "        \n",
    "        x[idx] = tmp_val - delta_x\n",
    "        fx2 = f(x) # f(x-delta_x)\n",
    "        grad[idx] = (fx1 - fx2) / (2*delta_x)\n",
    "        \n",
    "        x[idx] = tmp_val\n",
    "        it.iternext()\n",
    "        \n",
    "    return grad"
   ]
  },
  {
   "cell_type": "code",
   "execution_count": null,
   "id": "25f74c2b",
   "metadata": {},
   "outputs": [],
   "source": []
  }
 ],
 "metadata": {
  "kernelspec": {
   "display_name": "Python 3 (ipykernel)",
   "language": "python",
   "name": "python3"
  },
  "language_info": {
   "codemirror_mode": {
    "name": "ipython",
    "version": 3
   },
   "file_extension": ".py",
   "mimetype": "text/x-python",
   "name": "python",
   "nbconvert_exporter": "python",
   "pygments_lexer": "ipython3",
   "version": "3.9.6"
  }
 },
 "nbformat": 4,
 "nbformat_minor": 5
}
