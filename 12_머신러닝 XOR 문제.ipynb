{
 "cells": [
  {
   "cell_type": "markdown",
   "id": "7701b229",
   "metadata": {},
   "source": [
    "# 12_머신러닝 XOR 문제"
   ]
  },
  {
   "cell_type": "markdown",
   "id": "0c5c0100",
   "metadata": {},
   "source": [
    "구현코드"
   ]
  },
  {
   "cell_type": "code",
   "execution_count": 1,
   "id": "f70be8c5",
   "metadata": {},
   "outputs": [],
   "source": [
    "# [1] external function (sigmoid, numerical_derivative)\n",
    "import numpy as np\n",
    "\n",
    "# sigmoid 함수\n",
    "def sigmoid(x):\n",
    "    return 1 / (1 + np.exp(-x))\n",
    "\n",
    "# 수치미분 함수\n",
    "def numerical_derivative(f, x):\n",
    "    delta_x = 1e-4 # 0.0001\n",
    "    grad = np.zeros_like(x)\n",
    "    \n",
    "    it = np.nditer(x, flags = ['multi_index'], op_flags = ['readwrite'])\n",
    "    \n",
    "    while not it.finished:\n",
    "        idx = it.multi_index\n",
    "        tmp_val = x[idx]\n",
    "        x[idx] = float(tmp_val) + delta_x\n",
    "        fx1 = f(x) # f(x + delta_x)\n",
    "        \n",
    "        x[idx] = tmp_val - delta_x\n",
    "        fx2 = f(x) # f(x - delta_x)\n",
    "        grad[idx] = (fx1 - fx2) / (2 * delta_x)\n",
    "        \n",
    "        x[idx] = tmp_val\n",
    "        it.iternext()\n",
    "        \n",
    "    return grad"
   ]
  },
  {
   "cell_type": "code",
   "execution_count": 5,
   "id": "5bdffb63",
   "metadata": {},
   "outputs": [],
   "source": [
    "# [2] LogicGate class (__init__, __loss_func, error_val)\n",
    "# LogicGate Class\n",
    "\n",
    "class LogicGate:\n",
    "    \n",
    "    def __init__(self, gate_name, xdata, tdata): # xdata, tdata => numpy.array(...)\n",
    "        \n",
    "        self.name = gate_name\n",
    "        \n",
    "        # 입력 데이터, 정답 데이터 초기화\n",
    "        self.__xdata = xdata.reshape(4, 2)\n",
    "        self.__tdata = tdata.reshape(4, 1)\n",
    "        \n",
    "        # 가중치 W, 바이어스 b 초기화\n",
    "        self.__W = np.random.rand(2, 1) # weight. 2 X 1 matrix\n",
    "        self.__b = np.random.rand(1)\n",
    "        \n",
    "        # 학습율 learning rate 초기화\n",
    "        self.__learning_rate = 1e-2\n",
    "    \n",
    "    # 손실함수\n",
    "    def __loss_func(self):\n",
    "        \n",
    "        delta = 1e-7 # log 무한대 발산 방지\n",
    "        \n",
    "        z = np.dot(self.__xdata, self.__W) + self.__b\n",
    "        y = sigmoid(z)\n",
    "        \n",
    "        # cross-entropy\n",
    "        return -np.sum(self.__tdata*np.log(y + delta) + (1-self.__tdata)*np.log((1-y) + delta))\n",
    "    \n",
    "    # 손실 값 계산\n",
    "    def error_val(self):\n",
    "        \n",
    "        delta = 1e-7 # log 무한대 발산 방지\n",
    "        \n",
    "        z = np.dot(self.__xdata, self.__W) + self.__b\n",
    "        y = sigmoid(z)\n",
    "        \n",
    "        # cross-entropy\n",
    "        return -np.sum(self.__tdata*np.log(y + delta) + (1-self.__tdata)*np.log((1-y) + delta))\n",
    "# [2] LogicGate class (train, predict)\n",
    "    # 수치미분을 이용하여 손실함수가 최소가 될때 까지 학습하는 함수\n",
    "    def train(self):\n",
    "\n",
    "        f = lambda x : self.__loss_func()\n",
    "\n",
    "        print(\"Initial error value = \", self.error_val())\n",
    "\n",
    "        for step in range(8001):\n",
    "\n",
    "            self.__W -= self.__learning_rate * numerical_derivative(f, self.__W)\n",
    "            self.__b -= self.__learning_rate * numerical_derivative(f, self.__b)\n",
    "\n",
    "            if (step % 400 == 0):\n",
    "                print(\"step = \", step, \"error value = \", self.error_val())\n",
    "            \n",
    "    # 미래 값 예측 함수\n",
    "    def predict(self, input_data):\n",
    "        \n",
    "        z = np.dot(input_data, self.__W) + self.__b\n",
    "        y = sigmoid(z)\n",
    "        \n",
    "        if y > 0.5:\n",
    "            result = 1 # True\n",
    "        else:\n",
    "            result = 0 # False\n",
    "            \n",
    "        return y, result"
   ]
  },
  {
   "cell_type": "markdown",
   "id": "4d59f920",
   "metadata": {},
   "source": [
    "검증코드"
   ]
  },
  {
   "cell_type": "code",
   "execution_count": 6,
   "id": "15fc914a",
   "metadata": {},
   "outputs": [
    {
     "name": "stdout",
     "output_type": "stream",
     "text": [
      "Initial error value =  3.2005920174076743\n",
      "step =  0 error value =  3.1795495775461147\n",
      "step =  400 error value =  1.6118061534157442\n",
      "step =  800 error value =  1.1805844240965708\n",
      "step =  1200 error value =  0.9422860912389073\n",
      "step =  1600 error value =  0.7872294147080747\n",
      "step =  2000 error value =  0.6767403478919802\n",
      "step =  2400 error value =  0.5934472969499076\n",
      "step =  2800 error value =  0.5282002851992399\n",
      "step =  3200 error value =  0.4756351829696816\n",
      "step =  3600 error value =  0.4323617776561865\n",
      "step =  4000 error value =  0.39611597365895834\n",
      "step =  4400 error value =  0.36532081996567145\n",
      "step =  4800 error value =  0.3388409381329489\n",
      "step =  5200 error value =  0.31583658356294025\n",
      "step =  5600 error value =  0.2956726291507431\n",
      "step =  6000 error value =  0.27785952590858876\n",
      "step =  6400 error value =  0.26201373589997595\n",
      "step =  6800 error value =  0.24783047488525498\n",
      "step =  7200 error value =  0.2350644869403086\n",
      "step =  7600 error value =  0.223516203947052\n",
      "step =  8000 error value =  0.2130216011886643\n"
     ]
    }
   ],
   "source": [
    "# [3] usage (data feeding, AND Gate 검증)\n",
    "xdata = np.array([[0, 0], [0, 1], [1, 0], [1, 1]])\n",
    "tdata = np.array([0, 0, 0, 1])\n",
    "\n",
    "AND_obj = LogicGate(\"AND_GATE\", xdata, tdata)\n",
    "\n",
    "AND_obj.train()"
   ]
  },
  {
   "cell_type": "code",
   "execution_count": 7,
   "id": "d27c4679",
   "metadata": {},
   "outputs": [
    {
     "name": "stdout",
     "output_type": "stream",
     "text": [
      "AND_GATE \n",
      "\n",
      "[0 0]  =  0 \n",
      "\n",
      "[0 1]  =  0 \n",
      "\n",
      "[1 0]  =  0 \n",
      "\n",
      "[1 1]  =  1 \n",
      "\n"
     ]
    }
   ],
   "source": [
    "# AND Gate prediction\n",
    "print(AND_obj.name, \"\\n\")\n",
    "\n",
    "test_data = np.array([[0, 0], [0, 1], [1, 0], [1, 1]])\n",
    "\n",
    "for input_data in test_data:\n",
    "    (sigmoid_val, logical_val) = AND_obj.predict(input_data)\n",
    "    print(input_data, \" = \", logical_val, \"\\n\")"
   ]
  },
  {
   "cell_type": "code",
   "execution_count": 8,
   "id": "66c597c4",
   "metadata": {},
   "outputs": [
    {
     "name": "stdout",
     "output_type": "stream",
     "text": [
      "Initial error value =  1.5298190735159398\n",
      "step =  0 error value =  1.5280184630646219\n",
      "step =  400 error value =  1.020116135781697\n",
      "step =  800 error value =  0.7534972806168816\n",
      "step =  1200 error value =  0.5924774200763522\n",
      "step =  1600 error value =  0.4855412501702685\n",
      "step =  2000 error value =  0.409796123555399\n",
      "step =  2400 error value =  0.35358306847701154\n",
      "step =  2800 error value =  0.31035737225023685\n",
      "step =  3200 error value =  0.27617334668870197\n",
      "step =  3600 error value =  0.24851818265119963\n",
      "step =  4000 error value =  0.22572013892007306\n",
      "step =  4400 error value =  0.20662648415712512\n",
      "step =  4800 error value =  0.1904181846554927\n",
      "step =  5200 error value =  0.17649827687851222\n",
      "step =  5600 error value =  0.1644219881874202\n",
      "step =  6000 error value =  0.15385153008496816\n",
      "step =  6400 error value =  0.14452600801593482\n",
      "step =  6800 error value =  0.13624088716702337\n",
      "step =  7200 error value =  0.12883366714959188\n",
      "step =  7600 error value =  0.12217369000047978\n",
      "step =  8000 error value =  0.11615476006066226\n"
     ]
    }
   ],
   "source": [
    "# [3] usage (data feeding, OR Gate 검증)\n",
    "xdata = np.array([[0, 0], [0, 1], [1, 0], [1, 1]])\n",
    "tdata = np.array([0, 1, 1, 1])\n",
    "\n",
    "OR_obj = LogicGate(\"OR_GATE\", xdata, tdata)\n",
    "\n",
    "OR_obj.train()"
   ]
  },
  {
   "cell_type": "code",
   "execution_count": 9,
   "id": "a9f65e4d",
   "metadata": {},
   "outputs": [
    {
     "name": "stdout",
     "output_type": "stream",
     "text": [
      "OR_GATE \n",
      "\n",
      "[0 0]  =  0 \n",
      "\n",
      "[0 1]  =  1 \n",
      "\n",
      "[1 0]  =  1 \n",
      "\n",
      "[1 1]  =  1 \n",
      "\n"
     ]
    }
   ],
   "source": [
    "# OR Gate prediction\n",
    "print(OR_obj.name, \"\\n\")\n",
    "\n",
    "test_data = np.array([[0, 0], [0, 1], [1, 0], [1, 1]])\n",
    "\n",
    "for input_data in test_data:\n",
    "    (sigmoid_val, logical_val) = OR_obj.predict(input_data)\n",
    "    print(input_data, \" = \", logical_val, \"\\n\")"
   ]
  },
  {
   "cell_type": "code",
   "execution_count": 10,
   "id": "c96de0bf",
   "metadata": {},
   "outputs": [
    {
     "name": "stdout",
     "output_type": "stream",
     "text": [
      "Initial error value =  3.054562866940045\n",
      "step =  0 error value =  3.048958099014306\n",
      "step =  400 error value =  1.7427817547520026\n",
      "step =  800 error value =  1.2437208910185622\n",
      "step =  1200 error value =  0.9804160091664695\n",
      "step =  1600 error value =  0.8132360959448572\n",
      "step =  2000 error value =  0.6957970552828365\n",
      "step =  2400 error value =  0.6080799915551021\n",
      "step =  2800 error value =  0.5398138795516486\n",
      "step =  3200 error value =  0.4850845195907424\n",
      "step =  3600 error value =  0.4402017229639499\n",
      "step =  4000 error value =  0.4027245423903027\n",
      "step =  4400 error value =  0.37096540083050283\n",
      "step =  4800 error value =  0.34371644143450597\n",
      "step =  5200 error value =  0.3200886388622848\n",
      "step =  5600 error value =  0.29941232258515443\n",
      "step =  6000 error value =  0.2811731057832151\n",
      "step =  6400 error value =  0.2649692000215093\n",
      "step =  6800 error value =  0.250482157498661\n",
      "step =  7200 error value =  0.2374563240593705\n",
      "step =  7600 error value =  0.22568410309363535\n",
      "step =  8000 error value =  0.21499519065019917\n"
     ]
    }
   ],
   "source": [
    "# [3] usage (data feeding, NAND Gate 검증)\n",
    "xdata = np.array([[0, 0], [0, 1], [1, 0], [1, 1]])\n",
    "tdata = np.array([1, 1, 1, 0])\n",
    "\n",
    "NAND_obj = LogicGate(\"NAND_GATE\", xdata, tdata)\n",
    "\n",
    "NAND_obj.train()"
   ]
  },
  {
   "cell_type": "code",
   "execution_count": 12,
   "id": "a395d49f",
   "metadata": {},
   "outputs": [
    {
     "name": "stdout",
     "output_type": "stream",
     "text": [
      "NAND_GATE \n",
      "\n",
      "[0 0]  =  1 \n",
      "\n",
      "[0 1]  =  1 \n",
      "\n",
      "[1 0]  =  1 \n",
      "\n",
      "[1 1]  =  0 \n",
      "\n"
     ]
    }
   ],
   "source": [
    "# NAND Gate prediction\n",
    "print(NAND_obj.name, \"\\n\")\n",
    "\n",
    "test_data = np.array([[0, 0], [0, 1], [1, 0], [1, 1]])\n",
    "\n",
    "for input_data in test_data:\n",
    "    (sigmoid_val, logical_val) = NAND_obj.predict(input_data)\n",
    "    print(input_data, \" = \", logical_val, \"\\n\")"
   ]
  },
  {
   "cell_type": "code",
   "execution_count": 13,
   "id": "5aa4c8cc",
   "metadata": {},
   "outputs": [
    {
     "name": "stdout",
     "output_type": "stream",
     "text": [
      "Initial error value =  3.224797174702636\n",
      "step =  0 error value =  3.2135144672252105\n",
      "step =  400 error value =  2.7821118633231183\n",
      "step =  800 error value =  2.7752786258966538\n",
      "step =  1200 error value =  2.7733489267747036\n",
      "step =  1600 error value =  2.772803349542253\n",
      "step =  2000 error value =  2.7726489408525246\n",
      "step =  2400 error value =  2.7726052108296138\n",
      "step =  2800 error value =  2.772592821453552\n",
      "step =  3200 error value =  2.7725893106818544\n",
      "step =  3600 error value =  2.77258831574096\n",
      "step =  4000 error value =  2.7725880337648783\n",
      "step =  4400 error value =  2.7725879538482645\n",
      "step =  4800 error value =  2.7725879311983483\n",
      "step =  5200 error value =  2.77258792477889\n",
      "step =  5600 error value =  2.772587922959478\n",
      "step =  6000 error value =  2.772587922443816\n",
      "step =  6400 error value =  2.7725879222976673\n",
      "step =  6800 error value =  2.772587922256245\n",
      "step =  7200 error value =  2.772587922244505\n",
      "step =  7600 error value =  2.7725879222411773\n",
      "step =  8000 error value =  2.7725879222402345\n"
     ]
    }
   ],
   "source": [
    "# [3] usage (data feeding, XOR Gate 검증 ?)\n",
    "xdata = np.array([[0, 0], [0, 1], [1, 0], [1, 1]])\n",
    "tdata = np.array([0, 1, 1, 0])\n",
    "\n",
    "XOR_obj = LogicGate(\"XOR_GATE\", xdata, tdata)\n",
    "\n",
    "# XOR Gate 를 보면, 손실함수 값이 2.7 근처에서 더 이상 감소하지 않음\n",
    "XOR_obj.train()"
   ]
  },
  {
   "cell_type": "code",
   "execution_count": 14,
   "id": "8eda44a8",
   "metadata": {},
   "outputs": [
    {
     "name": "stdout",
     "output_type": "stream",
     "text": [
      "XOR_GATE \n",
      "\n",
      "[0 0]  =  0 \n",
      "\n",
      "[0 1]  =  0 \n",
      "\n",
      "[1 0]  =  0 \n",
      "\n",
      "[1 1]  =  1 \n",
      "\n"
     ]
    }
   ],
   "source": [
    "# XOR Gate predciton => 예측이 되지 않음\n",
    "print(XOR_obj.name, \"\\n\")\n",
    "\n",
    "test_data = np.array([[0, 0], [0, 1], [1, 0], [1, 1]])\n",
    "\n",
    "for input_data in test_data:\n",
    "    (sigmoid_val, logical_val) = XOR_obj.predict(input_data)\n",
    "    print(input_data, \" = \", logical_val, \"\\n\")"
   ]
  },
  {
   "cell_type": "markdown",
   "id": "9e7d42d1",
   "metadata": {},
   "source": [
    "XOR 구현 (1)"
   ]
  },
  {
   "cell_type": "markdown",
   "id": "31efc5c9",
   "metadata": {},
   "source": [
    "=> NAND, OR, AND 조합으로 XOR 구현"
   ]
  },
  {
   "cell_type": "code",
   "execution_count": 16,
   "id": "f1f3305a",
   "metadata": {},
   "outputs": [
    {
     "name": "stdout",
     "output_type": "stream",
     "text": [
      "[0 0]  =  0\n",
      "\n",
      "[0 1]  =  1\n",
      "\n",
      "[1 0]  =  1\n",
      "\n",
      "[1 1]  =  0\n",
      "\n"
     ]
    }
   ],
   "source": [
    "# XOR을 NAND + OR => AND 조합으로 계산함\n",
    "input_data = np.array([[0, 0], [0, 1], [1, 0], [1, 1]])\n",
    "\n",
    "s1 = [] # NAND 입력\n",
    "s2 = [] # OR 출력\n",
    "\n",
    "new_input_data = [] # AND 입력\n",
    "final_output = []   # AND 출력\n",
    "\n",
    "for index in range(len(input_data)):\n",
    "    \n",
    "    s1 = NAND_obj.predict(input_data[index]) # NAND 출력\n",
    "    s2 = OR_obj.predict(input_data[index])    # OR 출력\n",
    "    \n",
    "    new_input_data.append(s1[-1]) # AND 입력\n",
    "    new_input_data.append(s2[-1]) # AND 입력\n",
    "    \n",
    "    (sigmoid_val, logical_val) = AND_obj.predict(np.array(new_input_data))\n",
    "    \n",
    "    final_output.append(logical_val) # AND 출력. 즉 XOR 출력\n",
    "    new_input_data = [] # AND 입력 초기화\n",
    "    \n",
    "for index in range(len(input_data)):\n",
    "    print(input_data[index], \" = \", final_output[index], end = '')\n",
    "    print(\"\\n\")"
   ]
  },
  {
   "cell_type": "markdown",
   "id": "1f8b36df",
   "metadata": {},
   "source": [
    "XOR 구현 (2)"
   ]
  },
  {
   "cell_type": "markdown",
   "id": "88ff58fa",
   "metadata": {},
   "source": [
    "- 머신러닝 XOR 문제는 다양한 Gate 조합인 Multi-layer로 해결 할 수 있음. (Layer : 데이터를 처리하거나 계산이 이루어지는 단위)\n",
    "- 각각의 Gate(NAND, OR, AND)는 Logistic Regression 시스템으로 구성 됨.\n",
    "- 이전 Gate 모든 출력은 (previous output) 다음 Gate 입력 (next input)으로 들어감\n",
    "\n",
    "- => 신경망(Neural Network) 기반의 딥러닝(Deep Learning) 핵심 아이디어"
   ]
  }
 ],
 "metadata": {
  "kernelspec": {
   "display_name": "Python 3 (ipykernel)",
   "language": "python",
   "name": "python3"
  },
  "language_info": {
   "codemirror_mode": {
    "name": "ipython",
    "version": 3
   },
   "file_extension": ".py",
   "mimetype": "text/x-python",
   "name": "python",
   "nbconvert_exporter": "python",
   "pygments_lexer": "ipython3",
   "version": "3.9.6"
  }
 },
 "nbformat": 4,
 "nbformat_minor": 5
}
