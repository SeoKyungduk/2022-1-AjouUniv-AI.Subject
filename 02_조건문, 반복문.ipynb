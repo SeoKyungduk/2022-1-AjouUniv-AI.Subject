{
 "cells": [
  {
   "cell_type": "markdown",
   "id": "571222cf",
   "metadata": {},
   "source": [
    "# 조건문 - if"
   ]
  },
  {
   "cell_type": "code",
   "execution_count": 2,
   "id": "5d7bb0f0",
   "metadata": {},
   "outputs": [],
   "source": [
    "# 파이썬은 코딩블럭을 표시하기 위해 들여쓰기(indentation)을 사용함. 즉, C, Java 등과 같이 코딩블럭을 { }로 나타내지 않음\n",
    "# 동일한 블록의 들여쓰기는 모두 동일한 수의 공백을 사용해야 함.\n",
    "# 예를 들어 4개의 공백을 사용하다가 하나의 블록만 5개의 공백을 사용하거나, 공백과 탭을 혼용해서 사용한다면 IndentationError: unexpected inednt 에러가 발생함"
   ]
  },
  {
   "cell_type": "code",
   "execution_count": 3,
   "id": "1fdd52c1",
   "metadata": {},
   "outputs": [
    {
     "name": "stdout",
     "output_type": "stream",
     "text": [
      "a == 1\n",
      "positive number\n"
     ]
    }
   ],
   "source": [
    "a = 1\n",
    "\n",
    "if a > 0:\n",
    "    print(\"a ==\", a)\n",
    "    print(\"positive number\")\n",
    "elif a == 0:\n",
    "    print(\"a ==\", a)\n",
    "    print(\"zero\")\n",
    "else:\n",
    "    print(\"a ==\", a)\n",
    "    print(\"negative number\")"
   ]
  },
  {
   "cell_type": "code",
   "execution_count": 5,
   "id": "fc639579",
   "metadata": {},
   "outputs": [
    {
     "name": "stdout",
     "output_type": "stream",
     "text": [
      "45 is not in list_data\n",
      "key is in dict_data\n"
     ]
    }
   ],
   "source": [
    "list_data = [10, 20, 30, 40, 50]\n",
    "dict_data = {'key1':1, 'key2':2}\n",
    "\n",
    "if 45 in list_data:\n",
    "    print(\"45 is in list_data\")\n",
    "else:\n",
    "    print(\"45 is not in list_data\")\n",
    "\n",
    "if \"key1\" in dict_data:\n",
    "    print(\"key is in dict_data\")\n",
    "else:\n",
    "    print(\"key is not in dict_data\")"
   ]
  },
  {
   "cell_type": "markdown",
   "id": "f48d31cd",
   "metadata": {},
   "source": [
    "# 반복문 - for"
   ]
  },
  {
   "cell_type": "code",
   "execution_count": 6,
   "id": "4496c0d5",
   "metadata": {},
   "outputs": [],
   "source": [
    "# for문은 조건이 만족할 때까지 반복해서 실행됨"
   ]
  },
  {
   "cell_type": "code",
   "execution_count": 7,
   "id": "5720a987",
   "metadata": {},
   "outputs": [
    {
     "name": "stdout",
     "output_type": "stream",
     "text": [
      "0  1  2  3  4  5  6  7  8  9  "
     ]
    }
   ],
   "source": [
    "for data in range(10): # range() 함수는 시작 값 ~ 마지막 값 -1\n",
    "    print(data, \" \", end = '')"
   ]
  },
  {
   "cell_type": "code",
   "execution_count": 8,
   "id": "e8284c91",
   "metadata": {},
   "outputs": [
    {
     "name": "stdout",
     "output_type": "stream",
     "text": [
      "0  1  2  3  4  5  6  7  8  9  "
     ]
    }
   ],
   "source": [
    "for data in range(0, 10): # range() 함수는 시작 값 ~ 마지막 값 -1\n",
    "    print(data, \" \", end = '')"
   ]
  },
  {
   "cell_type": "code",
   "execution_count": 9,
   "id": "40cc907b",
   "metadata": {},
   "outputs": [
    {
     "name": "stdout",
     "output_type": "stream",
     "text": [
      "0  2  4  6  8  "
     ]
    }
   ],
   "source": [
    "for data in range(0, 10, 2): # range() 함수는 시작 값 ~ 마지막 값 -1\n",
    "    print(data, \" \", end = '')"
   ]
  },
  {
   "cell_type": "code",
   "execution_count": 10,
   "id": "99a360be",
   "metadata": {},
   "outputs": [
    {
     "name": "stdout",
     "output_type": "stream",
     "text": [
      "10  20  30  40  50  "
     ]
    }
   ],
   "source": [
    "list_data = [10, 20, 30, 40, 50]\n",
    "\n",
    "for data in list_data:\n",
    "    print(data, \" \", end = '') # 줄 바꿈 없음"
   ]
  },
  {
   "cell_type": "code",
   "execution_count": 13,
   "id": "f3bd46b0",
   "metadata": {},
   "outputs": [
    {
     "name": "stdout",
     "output_type": "stream",
     "text": [
      "key1  key2  "
     ]
    }
   ],
   "source": [
    "dict_data = {'key1':1, 'key2':2}\n",
    "\n",
    "for data in dict_data: # key 값이 data에 들어감\n",
    "    print(data, \" \", end = '') # 줄 바꿈 없음"
   ]
  },
  {
   "cell_type": "code",
   "execution_count": 14,
   "id": "4789b3a9",
   "metadata": {},
   "outputs": [
    {
     "name": "stdout",
     "output_type": "stream",
     "text": [
      "key1   1\n",
      "key2   2\n"
     ]
    }
   ],
   "source": [
    "for key, value in dict_data.items():\n",
    "    print(key, \" \", value)"
   ]
  },
  {
   "cell_type": "markdown",
   "id": "72e16f28",
   "metadata": {},
   "source": [
    "# 반복문 - list comprehension"
   ]
  },
  {
   "cell_type": "code",
   "execution_count": 15,
   "id": "0c5e6e5b",
   "metadata": {},
   "outputs": [],
   "source": [
    "# 리스트의 [...] 괄호 안에 for 루프를 사용하여 반복적으로 표현식(expression)을 실행해서 리스트 요소들을 정의하는 방법을 List Comprehension 이라 하며,\n",
    "# 머신러닝 코드에서 자주 사용되는 기법"
   ]
  },
  {
   "cell_type": "code",
   "execution_count": 16,
   "id": "1c9ff277",
   "metadata": {},
   "outputs": [
    {
     "name": "stdout",
     "output_type": "stream",
     "text": [
      "[0, 1, 4, 9, 16]\n"
     ]
    }
   ],
   "source": [
    "list_data = [x**2 for x in range(5)]\n",
    "\n",
    "print(list_data)"
   ]
  },
  {
   "cell_type": "code",
   "execution_count": 17,
   "id": "cfe3c991",
   "metadata": {},
   "outputs": [
    {
     "name": "stdout",
     "output_type": "stream",
     "text": [
      "all_data == [[1, 10], [2, 15], [3, 30], [4, 55]]\n",
      "x_data == [1, 2, 3, 4]\n",
      "y_data == [10, 15, 30, 55]\n"
     ]
    }
   ],
   "source": [
    "raw_data = [[1, 10], [2, 15], [3, 30], [4, 55]]\n",
    "\n",
    "all_data = [x for x in raw_data]\n",
    "x_data = [x[0] for x in raw_data]\n",
    "y_data = [x[1] for x in raw_data]\n",
    "\n",
    "print(\"all_data ==\", all_data)\n",
    "print(\"x_data ==\", x_data)\n",
    "print(\"y_data ==\", y_data)"
   ]
  },
  {
   "cell_type": "code",
   "execution_count": 18,
   "id": "e1e2b522",
   "metadata": {},
   "outputs": [],
   "source": [
    "# Quiz) 짝수를 출력하는 다음 코드를 List Comprehension으로 구현"
   ]
  },
  {
   "cell_type": "code",
   "execution_count": 21,
   "id": "1a883637",
   "metadata": {},
   "outputs": [
    {
     "name": "stdout",
     "output_type": "stream",
     "text": [
      "[0, 2, 4, 6, 8]\n"
     ]
    }
   ],
   "source": [
    "even_number = []\n",
    "\n",
    "for data in range(10):\n",
    "    if data % 2 == 0:\n",
    "        even_number.append(data)\n",
    "\n",
    "print(even_number)"
   ]
  },
  {
   "cell_type": "markdown",
   "id": "0cb64516",
   "metadata": {},
   "source": [
    "# 반복문 - while, break, continue"
   ]
  },
  {
   "cell_type": "code",
   "execution_count": 25,
   "id": "2c39d7e1",
   "metadata": {},
   "outputs": [],
   "source": [
    "# while 조건을 만족하지 않으면 종료됨"
   ]
  },
  {
   "cell_type": "code",
   "execution_count": 26,
   "id": "42ee1837",
   "metadata": {},
   "outputs": [
    {
     "name": "stdout",
     "output_type": "stream",
     "text": [
      "data == 5\n",
      "data == 4\n",
      "data == 3\n",
      "data == 2\n",
      "data == 1\n",
      "data == 0\n"
     ]
    }
   ],
   "source": [
    "data = 5\n",
    "\n",
    "while data >= 0:\n",
    "    print(\"data ==\", data)\n",
    "    data -= 1"
   ]
  },
  {
   "cell_type": "code",
   "execution_count": 27,
   "id": "4d82a926",
   "metadata": {},
   "outputs": [
    {
     "name": "stdout",
     "output_type": "stream",
     "text": [
      "data == 5\n",
      "continue here\n",
      "data == 4\n",
      "continue here\n",
      "data == 3\n",
      "break here\n"
     ]
    }
   ],
   "source": [
    "data = 5\n",
    "\n",
    "while data >= 0:\n",
    "    print(\"data ==\", data)\n",
    "    data -= 1\n",
    "    \n",
    "    if data == 2:\n",
    "        print(\"break here\")\n",
    "        break\n",
    "    else:\n",
    "        print(\"continue here\")\n",
    "        continue"
   ]
  },
  {
   "cell_type": "code",
   "execution_count": null,
   "id": "5400f5dd",
   "metadata": {},
   "outputs": [],
   "source": []
  }
 ],
 "metadata": {
  "kernelspec": {
   "display_name": "Python 3 (ipykernel)",
   "language": "python",
   "name": "python3"
  },
  "language_info": {
   "codemirror_mode": {
    "name": "ipython",
    "version": 3
   },
   "file_extension": ".py",
   "mimetype": "text/x-python",
   "name": "python",
   "nbconvert_exporter": "python",
   "pygments_lexer": "ipython3",
   "version": "3.9.6"
  }
 },
 "nbformat": 4,
 "nbformat_minor": 5
}
