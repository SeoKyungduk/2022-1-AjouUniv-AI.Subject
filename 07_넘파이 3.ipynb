{
 "cells": [
  {
   "cell_type": "markdown",
   "id": "10e1d1f1",
   "metadata": {},
   "source": [
    "# 라이브러리 - numpy concatenate(...)"
   ]
  },
  {
   "cell_type": "markdown",
   "id": "d74b17f8",
   "metadata": {},
   "source": [
    "- 행렬에 행(row) 또는 열(column)을 추가하기 위한 numpy.concatenate(...)\n",
    "- => 머신러닝의 회귀(regression) 코드 구현시 가중치(weight)와 바이어스(bias)를 별도로 구분하지 않고 하나의 행렬로 취급하기 위한 프로그래밍 구현 기술"
   ]
  },
  {
   "cell_type": "code",
   "execution_count": 9,
   "id": "0d3511fe",
   "metadata": {},
   "outputs": [],
   "source": [
    "import numpy as np"
   ]
  },
  {
   "cell_type": "code",
   "execution_count": 10,
   "id": "d947b4a3",
   "metadata": {},
   "outputs": [
    {
     "name": "stdout",
     "output_type": "stream",
     "text": [
      "(2, 3)\n",
      "(2, 1)\n",
      "[[10 20 30]\n",
      " [40 50 60]\n",
      " [70 80 90]]\n",
      "[[  10   20   30 1000]\n",
      " [  40   50   60 2000]]\n"
     ]
    }
   ],
   "source": [
    "# 행렬과 열과 행 추가\n",
    "\n",
    "A = np.array([[10, 20, 30], [40, 50, 60]])\n",
    "\n",
    "print(A.shape)\n",
    "\n",
    "# A matrix에 행(row) 추가할 행렬. 1행 3열로 reshape\n",
    "# 행을 추가하기 때문에 우선 열을 3열로 만들어야 함.\n",
    "row_add = np.array([70, 80, 90]).reshape(1, 3)\n",
    "\n",
    "# A matrix에 열(column) 추가할 행렬. 2행 1열로 생성\n",
    "# 열을 추가하기 때문에 우선 행을 2행으로 만들어야 함.\n",
    "column_add = np.array([1000, 2000]).reshape(2, 1)\n",
    "print(column_add.shape)\n",
    "\n",
    "# numpy.concatenate에서 axis = 0 행(row) 기준\n",
    "# A 행렬에 row_add 행렬 추가\n",
    "B = np.concatenate((A, row_add), axis = 0)\n",
    "\n",
    "print(B)\n",
    "# numpy.concatenate에서 axis = 1 열(column) 기준\n",
    "# B 행렬에 column_add 행렬 추가\n",
    "C = np.concatenate((A, column_add), axis = 1)\n",
    "\n",
    "print(C)"
   ]
  },
  {
   "cell_type": "markdown",
   "id": "6cd519d4",
   "metadata": {},
   "source": [
    "# 라이브러리 - numpy useful function (1)"
   ]
  },
  {
   "cell_type": "markdown",
   "id": "a4ddf2e2",
   "metadata": {},
   "source": [
    "- Seperator로 구분된 파일에서 게이터를 읽기 위한 numpy.loadtxt(...)\n",
    "- [예제] 다음과 같이 콤마(,)로 분리 된 데이터 파일을 read 하기 위해서는 np.loadtxt(\"파일이름\", seperator = ',')호출함. 리턴값은 행렬이기 때문에 인덱싱 또는 슬라이싱을 이용하여 데이터를 분리할 필요가 있음.\n",
    "- => 머신러닝 코드에서 입력데이터와 정답데이터를 분리하는 프로그래밍 기법"
   ]
  },
  {
   "cell_type": "code",
   "execution_count": 12,
   "id": "88a53b98",
   "metadata": {},
   "outputs": [
    {
     "name": "stdout",
     "output_type": "stream",
     "text": [
      "x_data.ndim =  2 , x_data.shape =  (25, 3)\n",
      "t_data.ndim =  2 , t_data.shape =  (25, 1)\n"
     ]
    }
   ],
   "source": [
    "loaded_data = np.loadtxt('data-01.csv', delimiter = ',', dtype = np.float32)\n",
    "\n",
    "x_data = loaded_data[:, 0:-1]\n",
    "t_data = loaded_data[:, [-1]]\n",
    "\n",
    "# 데이터 차원 및 shape 확인\n",
    "print(\"x_data.ndim = \", x_data.ndim, \", x_data.shape = \", x_data.shape)\n",
    "print(\"t_data.ndim = \", t_data.ndim, \", t_data.shape = \", t_data.shape)"
   ]
  },
  {
   "cell_type": "markdown",
   "id": "37f8456f",
   "metadata": {},
   "source": [
    "# 라이브러리 - numpy useful function (2)"
   ]
  },
  {
   "cell_type": "code",
   "execution_count": 13,
   "id": "7e5de403",
   "metadata": {},
   "outputs": [
    {
     "name": "stdout",
     "output_type": "stream",
     "text": [
      "random_number1 == [0.76645726 0.3274801  0.47364445] , random_number1.shape == (3,)\n",
      "random_number2 == [[0.37816395 0.41518708 0.35885955]] , random_number2.shape == (1, 3)\n",
      "random_number3 == [[0.05030062]\n",
      " [0.79623123]\n",
      " [0.5308957 ]] , random_number3.shape == (3, 1)\n"
     ]
    }
   ],
   "source": [
    "# 0 ~ 1 사이의 random number 발생\n",
    "\n",
    "random_number1 = np.random.rand(3)\n",
    "random_number2 = np.random.rand(1, 3)\n",
    "random_number3 = np.random.rand(3, 1)\n",
    "\n",
    "print(\"random_number1 ==\", random_number1, \", random_number1.shape ==\", random_number1.shape)\n",
    "print(\"random_number2 ==\", random_number2, \", random_number2.shape ==\", random_number2.shape)\n",
    "print(\"random_number3 ==\", random_number3, \", random_number3.shape ==\", random_number3.shape)"
   ]
  },
  {
   "cell_type": "code",
   "execution_count": 14,
   "id": "e32dff2f",
   "metadata": {},
   "outputs": [
    {
     "name": "stdout",
     "output_type": "stream",
     "text": [
      "np.sum(X) == 20\n",
      "np.exp(X) == [   7.3890561    54.59815003  403.42879349 2980.95798704]\n",
      "np.log(X) == [0.69314718 1.38629436 1.79175947 2.07944154]\n"
     ]
    }
   ],
   "source": [
    "X = np.array([2, 4, 6, 8])\n",
    "\n",
    "print(\"np.sum(X) ==\", np.sum(X))\n",
    "print(\"np.exp(X) ==\", np.exp(X))\n",
    "print(\"np.log(X) ==\", np.log(X))"
   ]
  },
  {
   "cell_type": "markdown",
   "id": "ab8b06b3",
   "metadata": {},
   "source": [
    "# 라이브러리 - numpy useful function (3)"
   ]
  },
  {
   "cell_type": "code",
   "execution_count": 15,
   "id": "b516d8c2",
   "metadata": {},
   "outputs": [
    {
     "name": "stdout",
     "output_type": "stream",
     "text": [
      "np.max(X) == 8\n",
      "np.min(X) == 2\n",
      "np.argmax(X) == 3\n",
      "np.argmin(X) == 0\n"
     ]
    }
   ],
   "source": [
    "X = np.array([2, 4, 6, 8])\n",
    "\n",
    "print(\"np.max(X) ==\", np.max(X))\n",
    "print(\"np.min(X) ==\", np.min(X))\n",
    "print(\"np.argmax(X) ==\", np.argmax(X)) # max값이 있는 위치\n",
    "print(\"np.argmin(X) ==\", np.argmin(X)) # min값이 있는 위치"
   ]
  },
  {
   "cell_type": "code",
   "execution_count": 16,
   "id": "74f2f2f9",
   "metadata": {},
   "outputs": [
    {
     "name": "stdout",
     "output_type": "stream",
     "text": [
      "A.shape == (3, 3) , A == [[1. 1. 1.]\n",
      " [1. 1. 1.]\n",
      " [1. 1. 1.]]\n",
      "B.shape == (3, 2) , B == [[0. 0.]\n",
      " [0. 0.]\n",
      " [0. 0.]]\n"
     ]
    }
   ],
   "source": [
    "A = np.ones([3, 3])\n",
    "\n",
    "print(\"A.shape ==\", A.shape, \", A ==\", A)\n",
    "\n",
    "B = np.zeros([3, 2])\n",
    "\n",
    "print(\"B.shape ==\", B.shape, \", B ==\", B)"
   ]
  },
  {
   "cell_type": "code",
   "execution_count": 17,
   "id": "1c11a6d3",
   "metadata": {},
   "outputs": [
    {
     "name": "stdout",
     "output_type": "stream",
     "text": [
      "np.max(X) == [2 5 8]\n",
      "np.min(X) == [0 2 3]\n",
      "np.max(X) == [6 3 8]\n",
      "np.min(X) == [2 1 0]\n",
      "np.argmax(X) == [0 2 2]\n",
      "np.argmin(X) == [2 1 1]\n",
      "np.argmax(X) == [2 2 2]\n",
      "np.argmin(X) == [0 0 0]\n"
     ]
    }
   ],
   "source": [
    "X = np.array([[2, 4, 6], [1, 2, 3], [0, 5, 8]])\n",
    "\n",
    "print(\"np.max(X) ==\", np.max(X, axis = 0)) # axis = 0, 열기준\n",
    "print(\"np.min(X) ==\", np.min(X, axis = 0)) # axis = 0, 열기준\n",
    "\n",
    "print(\"np.max(X) ==\", np.max(X, axis = 1)) # axis = 1, 행기준\n",
    "print(\"np.min(X) ==\", np.min(X, axis = 1)) # axis = 1, 행기준\n",
    "\n",
    "print(\"np.argmax(X) ==\", np.argmax(X, axis = 0)) # axis = 0, 열기준\n",
    "print(\"np.argmin(X) ==\", np.argmin(X, axis = 0)) # axis = 0, 열기준\n",
    "\n",
    "print(\"np.argmax(X) ==\", np.argmax(X, axis = 1)) # axis = 1, 행기준\n",
    "print(\"np.argmin(X) ==\", np.argmin(X, axis = 1)) # axis = 1, 행기준"
   ]
  },
  {
   "cell_type": "markdown",
   "id": "bc65df24",
   "metadata": {},
   "source": [
    "# 라이브러리 - matplotlib, scatter plot"
   ]
  },
  {
   "cell_type": "markdown",
   "id": "f9576cd5",
   "metadata": {},
   "source": [
    "- 실무에서는 머신러닝 코드를 구현하기 전에,\n",
    "- => 입력 데이터의 분포와 모양을 먼저 그래프로 그려보고, 데이터의 특성과 분포를 파악한 후 어떤 알고리즘을 적용할지 결정하고 있음.\n",
    "- => 데이터 시각화를 위해서는 matplotlib 라이브러리를 사용함.\n",
    "- => 일반적으로 line plot, scatter plot 등을 통해 데이터의 분포와 형태를 파악함."
   ]
  },
  {
   "cell_type": "code",
   "execution_count": 18,
   "id": "2bc66c68",
   "metadata": {},
   "outputs": [
    {
     "data": {
      "image/png": "[encoded data removed]",
      "text/plain": [
       "<Figure size 432x288 with 1 Axes>"
      ]
     },
     "metadata": {
      "needs_background": "light"
     },
     "output_type": "display_data"
    }
   ],
   "source": [
    "import matplotlib.pyplot as plt\n",
    "import numpy as np\n",
    "\n",
    "# 주피터 노트북을 사용하는 경우 노트북 내부에 그림 표시\n",
    "%matplotlib inline\n",
    "\n",
    "# x data, y data 생성\n",
    "x_data = np.random.rand(100)\n",
    "y_data = np.random.rand(100)\n",
    "\n",
    "plt.title('scatter plot')\n",
    "plt.grid()\n",
    "plt.scatter(x_data, y_data, color = 'b', marker = 'o')\n",
    "plt.show()"
   ]
  },
  {
   "cell_type": "markdown",
   "id": "156b5bab",
   "metadata": {},
   "source": [
    "# 라이브러리 - matplotlib, line plot"
   ]
  },
  {
   "cell_type": "code",
   "execution_count": 19,
   "id": "7dac1c46",
   "metadata": {},
   "outputs": [
    {
     "data": {
      "image/png": "[encoded data removed]",
      "text/plain": [
       "<Figure size 432x288 with 1 Axes>"
      ]
     },
     "metadata": {
      "needs_background": "light"
     },
     "output_type": "display_data"
    }
   ],
   "source": [
    "import matplotlib.pyplot as plt\n",
    "\n",
    "# 주피터 노트북을 사용하는 경우 노트북 내부에 그림 표시\n",
    "%matplotlib inline\n",
    "\n",
    "x_data = [x for x in range(-5, 5)]\n",
    "y_data = [y*y for y in range(-5, 5)]\n",
    "\n",
    "plt.title('line plot')\n",
    "plt.grid()\n",
    "plt.plot(x_data, y_data, color = 'b')\n",
    "plt.show()"
   ]
  },
  {
   "cell_type": "code",
   "execution_count": 20,
   "id": "5ea257ce",
   "metadata": {},
   "outputs": [
    {
     "data": {
      "image/png": "[encoded data removed]",
      "text/plain": [
       "<Figure size 432x288 with 1 Axes>"
      ]
     },
     "metadata": {
      "needs_background": "light"
     },
     "output_type": "display_data"
    }
   ],
   "source": [
    "import matplotlib.pyplot as plt\n",
    "\n",
    "# 주피터 노트북을 사용하는 경우 노트북 내부에 그림 표시\n",
    "%matplotlib inline\n",
    "\n",
    "x_data = [-3, -2, -1, 0, 1, 2, 3, 4, 5, 6, 7, 8, 9]\n",
    "y_data = [-8, -13, -0, 3, 6, -1, -5, -7, 1, 8, 7, 12, 13]\n",
    "\n",
    "plt.title('line plot')\n",
    "plt.grid()\n",
    "plt.plot(x_data, y_data, color = 'b')\n",
    "plt.show()"
   ]
  },
  {
   "cell_type": "code",
   "execution_count": null,
   "id": "360bf64c",
   "metadata": {},
   "outputs": [],
   "source": []
  }
 ],
 "metadata": {
  "kernelspec": {
   "display_name": "Python 3 (ipykernel)",
   "language": "python",
   "name": "python3"
  },
  "language_info": {
   "codemirror_mode": {
    "name": "ipython",
    "version": 3
   },
   "file_extension": ".py",
   "mimetype": "text/x-python",
   "name": "python",
   "nbconvert_exporter": "python",
   "pygments_lexer": "ipython3",
   "version": "3.9.6"
  }
 },
 "nbformat": 4,
 "nbformat_minor": 5
}
