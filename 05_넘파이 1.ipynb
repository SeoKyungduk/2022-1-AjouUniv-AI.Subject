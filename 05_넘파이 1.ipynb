{
 "cells": [
  {
   "cell_type": "markdown",
   "id": "73b3adec",
   "metadata": {},
   "source": [
    "# 라이브러리 - overview"
   ]
  },
  {
   "cell_type": "code",
   "execution_count": 12,
   "id": "b9696272",
   "metadata": {},
   "outputs": [
    {
     "name": "stdout",
     "output_type": "stream",
     "text": [
      "A == [1 2] , type == <class 'numpy.ndarray'>\n"
     ]
    }
   ],
   "source": [
    "import numpy\n",
    "\n",
    "A = numpy.array([1, 2])\n",
    "\n",
    "print(\"A ==\", A, \", type ==\", type(A))"
   ]
  },
  {
   "cell_type": "code",
   "execution_count": 22,
   "id": "44fcf52f",
   "metadata": {},
   "outputs": [
    {
     "name": "stdout",
     "output_type": "stream",
     "text": [
      "A == [1 2] , type == <class 'numpy.ndarray'>\n"
     ]
    }
   ],
   "source": [
    "import numpy as np # 이 형태를 가장 많이 사용함\n",
    "\n",
    "A = np.array([1, 2])\n",
    "\n",
    "print(\"A ==\", A, \", type ==\", type(A))"
   ]
  },
  {
   "cell_type": "code",
   "execution_count": 23,
   "id": "d4638708",
   "metadata": {},
   "outputs": [
    {
     "name": "stdout",
     "output_type": "stream",
     "text": [
      "result == 2.718281828459045 , type == <class 'numpy.float64'>\n"
     ]
    }
   ],
   "source": [
    "from numpy import exp\n",
    "\n",
    "result = exp(1)\n",
    "\n",
    "print(\"result ==\", result, \", type ==\", type(result)) # float는 유리수를 의미함. float32는 2^32개의 숫자를 표현할 수 있음"
   ]
  },
  {
   "cell_type": "code",
   "execution_count": 24,
   "id": "0210421a",
   "metadata": {},
   "outputs": [
    {
     "name": "stdout",
     "output_type": "stream",
     "text": [
      "result == 4.663123641894311 , type == <class 'numpy.float64'>\n"
     ]
    }
   ],
   "source": [
    "from numpy import *\n",
    "\n",
    "result = exp(1) + log(1.7) + sqrt(2)\n",
    "\n",
    "print(\"result ==\", result, \", type ==\", type(result)) # float는 유리수를 의미함. float64는 2^64개의 숫자를 표현할 수 있음"
   ]
  },
  {
   "cell_type": "markdown",
   "id": "431d85e8",
   "metadata": {},
   "source": [
    "# 라이브러리 - numpy"
   ]
  },
  {
   "cell_type": "markdown",
   "id": "96891d4a",
   "metadata": {},
   "source": [
    "- numpy\n",
    "- => numpy는 머신러닝 코드를 개발할 경우 자주 사용되는 벡터, 행렬 등을 표현하고 연산할 때 반드시 필요한 라이브러리\n",
    "- numpy vs list\n",
    "- => 머신러닝에서 숫자, 사람, 동물 등의 인식을 하기 위해서는 이미지(image) 데이터를 행렬(matrix)로 변환하는 것이 중요함.\n",
    "- => 행렬(matrix)을 나타내기 위해서는 리스트(list)를 사용할 수도 있지만, 행렬 연산이 직관적이지 않고 오류 가능성이 높기 때문에, 행렬 연산을 위해서 numpy 사용이 필수임."
   ]
  },
  {
   "cell_type": "code",
   "execution_count": 25,
   "id": "2aca74f4",
   "metadata": {},
   "outputs": [],
   "source": [
    "import pandas as pd"
   ]
  },
  {
   "cell_type": "code",
   "execution_count": 26,
   "id": "03fa98a2",
   "metadata": {},
   "outputs": [
    {
     "data": {
      "text/plain": [
       "[[1, 0], [0, 1], [1, 1], [1, 1]]"
      ]
     },
     "execution_count": 26,
     "metadata": {},
     "output_type": "execute_result"
    }
   ],
   "source": [
    "# 리스트로 행렬 표현\n",
    "\n",
    "A = [[1, 0], [0, 1]]\n",
    "B = [[1, 1], [1, 1]]\n",
    "\n",
    "A + B # 행렬 연산이 아닌 리스트 연산"
   ]
  },
  {
   "cell_type": "code",
   "execution_count": 28,
   "id": "5e823067",
   "metadata": {},
   "outputs": [
    {
     "data": {
      "text/plain": [
       "array([[2, 1],\n",
       "       [1, 2]])"
      ]
     },
     "execution_count": 28,
     "metadata": {},
     "output_type": "execute_result"
    }
   ],
   "source": [
    "# numpy matrix, 직관적임\n",
    "\n",
    "A = np.array([[1, 0], [0, 1]])\n",
    "B = np.array([[1, 1], [1, 1]])\n",
    "\n",
    "A + B # 행렬 연산"
   ]
  },
  {
   "cell_type": "markdown",
   "id": "c376e16f",
   "metadata": {},
   "source": [
    "# 라이브러리 - numpy vector (1차원 배열)"
   ]
  },
  {
   "cell_type": "markdown",
   "id": "ad09e48d",
   "metadata": {},
   "source": [
    "- 벡터(vector) 생성\n",
    "- => vector는 np.array([...])를 사용하여 생성함 (import numpy as np)\n",
    "- => 머신러닝 코드 구현 시, 연산을 위해서 vector, matrix 등의 형상(shape), 차원(dimension)을 확인하는 것이 필요함\n",
    "- 벡터(vector) 산술연산\n",
    "- => vector 간 산술연산(+, -, X, /)은 벡터의 각각의 원소에 대하여 행해짐"
   ]
  },
  {
   "cell_type": "code",
   "execution_count": 29,
   "id": "37adb667",
   "metadata": {},
   "outputs": [
    {
     "name": "stdout",
     "output_type": "stream",
     "text": [
      "A == [1 2 3] , B == [4 5 6]\n",
      "A.shpae == (3,) , B.shape == (3,)\n",
      "A.ndim == 1 B.ndim == 1\n"
     ]
    }
   ],
   "source": [
    "A = np.array([1, 2, 3])\n",
    "B = np.array([4, 5, 6])\n",
    "\n",
    "# vector A, B 출력\n",
    "print(\"A ==\", A, \", B ==\", B)\n",
    "\n",
    "# vector A, B 형상 출력 => shape\n",
    "print(\"A.shpae ==\", A.shape, \", B.shape ==\", B.shape)\n",
    "\n",
    "# vector A, B 차원 출력 => ndim\n",
    "print(\"A.ndim ==\", A.ndim, \"B.ndim ==\", B.ndim)"
   ]
  },
  {
   "cell_type": "code",
   "execution_count": 30,
   "id": "cf0ca928",
   "metadata": {},
   "outputs": [
    {
     "name": "stdout",
     "output_type": "stream",
     "text": [
      "A + B == [5 7 9]\n",
      "A - B == [-3 -3 -3]\n",
      "A * B == [ 4 10 18]\n",
      "A / B == [0.25 0.4  0.5 ]\n"
     ]
    }
   ],
   "source": [
    "# vector 산술 연산\n",
    "\n",
    "print(\"A + B ==\", A + B)\n",
    "print(\"A - B ==\", A - B)\n",
    "print(\"A * B ==\", A * B)\n",
    "print(\"A / B ==\", A / B)"
   ]
  },
  {
   "cell_type": "markdown",
   "id": "960b3d88",
   "metadata": {},
   "source": [
    "# 라이브러리 - numpy matrix (1차원 배열)"
   ]
  },
  {
   "cell_type": "markdown",
   "id": "8a93e652",
   "metadata": {},
   "source": [
    "- 행렬(matrix) 생성\n",
    "- => matrix는 vector와 마찬가지로 np.array([[...], [...], ...])를 사용하여 생성함 (import numpy as np)"
   ]
  },
  {
   "cell_type": "code",
   "execution_count": 31,
   "id": "80384617",
   "metadata": {},
   "outputs": [
    {
     "name": "stdout",
     "output_type": "stream",
     "text": [
      "A.shape == (2, 3) , B.shape (2, 3)\n",
      "A.ndim == 2 B.ndim == 2\n"
     ]
    }
   ],
   "source": [
    "A = np.array([[1, 2, 3], [4, 5, 6]])\n",
    "B = np.array([[-1, -2, -3], [-4, -5, -6]])\n",
    "\n",
    "# matrix A, B 형상 출력 => shape\n",
    "print(\"A.shape ==\", A.shape, \", B.shape\", B.shape)\n",
    "\n",
    "# matrix A, B 차원 출력 => ndim\n",
    "print(\"A.ndim ==\", A.ndim, \"B.ndim ==\", B.ndim)"
   ]
  },
  {
   "cell_type": "markdown",
   "id": "c5926142",
   "metadata": {},
   "source": [
    "- 형 변환(reshape)\n",
    "- => vector를 matrix로 변경하거나 matrix를 다른 형상의 matrix로 변경하기 위해서는 reshape()을 사용하여 행렬의 shape을 변경하여야 함"
   ]
  },
  {
   "cell_type": "code",
   "execution_count": 35,
   "id": "06540267",
   "metadata": {},
   "outputs": [
    {
     "name": "stdout",
     "output_type": "stream",
     "text": [
      "C.shape == (3,)\n",
      "C.shape == (1, 3)\n",
      "C.shape == (3, 1)\n"
     ]
    }
   ],
   "source": [
    "# vector 생성\n",
    "\n",
    "C = np.array([1, 2, 3])\n",
    "\n",
    "# vector C형상 출력 => shape\n",
    "print(\"C.shape ==\", C.shape)\n",
    "\n",
    "# vector를 (1, 3) 행렬로 형 변환\n",
    "C = C.reshape(1, 3)\n",
    "\n",
    "print(\"C.shape ==\", C.shape)\n",
    "\n",
    "# vector를 (3, 1) 행렬로 형 변환\n",
    "C = C.reshape(3, 1)\n",
    "\n",
    "print(\"C.shape ==\", C.shape)"
   ]
  },
  {
   "cell_type": "code",
   "execution_count": null,
   "id": "8136edf2",
   "metadata": {},
   "outputs": [],
   "source": []
  }
 ],
 "metadata": {
  "kernelspec": {
   "display_name": "Python 3 (ipykernel)",
   "language": "python",
   "name": "python3"
  },
  "language_info": {
   "codemirror_mode": {
    "name": "ipython",
    "version": 3
   },
   "file_extension": ".py",
   "mimetype": "text/x-python",
   "name": "python",
   "nbconvert_exporter": "python",
   "pygments_lexer": "ipython3",
   "version": "3.9.6"
  }
 },
 "nbformat": 4,
 "nbformat_minor": 5
}
