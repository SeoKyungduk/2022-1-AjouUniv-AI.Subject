{
 "cells": [
  {
   "cell_type": "markdown",
   "id": "9982e23e",
   "metadata": {},
   "source": [
    "# 판다스(Pandas) 05 - 데이터프레임(DataFrame) 파일로 저장하기"
   ]
  },
  {
   "cell_type": "markdown",
   "id": "0315798d",
   "metadata": {},
   "source": [
    "데이터프레임 csv / tsv / txt 파일로 저장하기"
   ]
  },
  {
   "cell_type": "markdown",
   "id": "2a0f942d",
   "metadata": {},
   "source": [
    "- 데이터프레임을 파일로 저장하기 위해서는 일반적으로 'to_csv(...)'함수를 사용하며, to_csv(...)에서 분리자를 나타내는 sep = '...' 옵션을 사용하면 csv / tsv / txt 등의 다양한 파일 형식으로 저장할 수 있음."
   ]
  },
  {
   "cell_type": "code",
   "execution_count": 1,
   "id": "dd9e4110",
   "metadata": {},
   "outputs": [
    {
     "data": {
      "text/html": [
       "<div>\n",
       "<style scoped>\n",
       "    .dataframe tbody tr th:only-of-type {\n",
       "        vertical-align: middle;\n",
       "    }\n",
       "\n",
       "    .dataframe tbody tr th {\n",
       "        vertical-align: top;\n",
       "    }\n",
       "\n",
       "    .dataframe thead th {\n",
       "        text-align: right;\n",
       "    }\n",
       "</style>\n",
       "<table border=\"1\" class=\"dataframe\">\n",
       "  <thead>\n",
       "    <tr style=\"text-align: right;\">\n",
       "      <th></th>\n",
       "      <th>Name</th>\n",
       "      <th>Country</th>\n",
       "      <th>Age</th>\n",
       "      <th>Job</th>\n",
       "    </tr>\n",
       "  </thead>\n",
       "  <tbody>\n",
       "    <tr>\n",
       "      <th>0</th>\n",
       "      <td>John</td>\n",
       "      <td>USA</td>\n",
       "      <td>31</td>\n",
       "      <td>Student</td>\n",
       "    </tr>\n",
       "    <tr>\n",
       "      <th>1</th>\n",
       "      <td>Sabre</td>\n",
       "      <td>France</td>\n",
       "      <td>33</td>\n",
       "      <td>Lawyer</td>\n",
       "    </tr>\n",
       "    <tr>\n",
       "      <th>2</th>\n",
       "      <td>Kim</td>\n",
       "      <td>Korea</td>\n",
       "      <td>28</td>\n",
       "      <td>Chef</td>\n",
       "    </tr>\n",
       "  </tbody>\n",
       "</table>\n",
       "</div>"
      ],
      "text/plain": [
       "    Name Country  Age      Job\n",
       "0   John     USA   31  Student\n",
       "1  Sabre  France   33   Lawyer\n",
       "2    Kim   Korea   28     Chef"
      ]
     },
     "execution_count": 1,
     "metadata": {},
     "output_type": "execute_result"
    }
   ],
   "source": [
    "# 데이터프레임 df1 생성\n",
    "\n",
    "import pandas as pd\n",
    "\n",
    "person_dict = {'Name' : ['John', 'Sabre', 'Kim'],\n",
    "              'Country' : ['USA', 'France', 'Korea'],\n",
    "              'Age' : [31, 33, 28],\n",
    "              'Job' : ['Student', 'Lawyer', 'Chef']}\n",
    "\n",
    "df1 = pd.DataFrame(data = person_dict, columns = ['Name', 'Country', 'Age', 'Job'])\n",
    "\n",
    "df1"
   ]
  },
  {
   "cell_type": "code",
   "execution_count": 2,
   "id": "a93d4271",
   "metadata": {},
   "outputs": [],
   "source": [
    "# 데이터프레임을 csv / tsv / txt 파일로 저장\n",
    "\n",
    "# 분리자(seperator)로서 comma, tab, space 지정하여 저장\n",
    "# 분리자 옵션을 생략하면 기본적으로 sep = ',' 인식\n",
    "\n",
    "df1.to_csv('person_01.csv', sep = ',') # comma로 분리해서 저장\n",
    "df1.to_csv('person_01.tsv', sep = '\\t') # tab으로 분리해서 저장\n",
    "df1.to_csv('person_01.txt', sep = ' ') # 공백으로 분리해서 저장"
   ]
  },
  {
   "cell_type": "markdown",
   "id": "ff72cc97",
   "metadata": {},
   "source": [
    "데이터프레임 엑셀(excel) 파일로 저장하기"
   ]
  },
  {
   "cell_type": "markdown",
   "id": "193b8788",
   "metadata": {},
   "source": [
    "- 데이터프레임을 파일로 저장하기 위해서는\n",
    "- 1. 먼저 xlwt, openpyxl 라이브러리를 설치한 후에\n",
    "- 2. to_excel(...) 함수를 이용하여 데이터프레임을 엑셀(excel) 파일로 저장 할 수 있음"
   ]
  },
  {
   "cell_type": "code",
   "execution_count": 3,
   "id": "d416e80e",
   "metadata": {},
   "outputs": [
    {
     "data": {
      "text/html": [
       "<div>\n",
       "<style scoped>\n",
       "    .dataframe tbody tr th:only-of-type {\n",
       "        vertical-align: middle;\n",
       "    }\n",
       "\n",
       "    .dataframe tbody tr th {\n",
       "        vertical-align: top;\n",
       "    }\n",
       "\n",
       "    .dataframe thead th {\n",
       "        text-align: right;\n",
       "    }\n",
       "</style>\n",
       "<table border=\"1\" class=\"dataframe\">\n",
       "  <thead>\n",
       "    <tr style=\"text-align: right;\">\n",
       "      <th></th>\n",
       "      <th>Name</th>\n",
       "      <th>Country</th>\n",
       "      <th>Age</th>\n",
       "      <th>Job</th>\n",
       "    </tr>\n",
       "  </thead>\n",
       "  <tbody>\n",
       "    <tr>\n",
       "      <th>0</th>\n",
       "      <td>John</td>\n",
       "      <td>USA</td>\n",
       "      <td>31</td>\n",
       "      <td>Student</td>\n",
       "    </tr>\n",
       "    <tr>\n",
       "      <th>1</th>\n",
       "      <td>Sabre</td>\n",
       "      <td>France</td>\n",
       "      <td>33</td>\n",
       "      <td>Lawyer</td>\n",
       "    </tr>\n",
       "    <tr>\n",
       "      <th>2</th>\n",
       "      <td>Kim</td>\n",
       "      <td>Korea</td>\n",
       "      <td>28</td>\n",
       "      <td>Chef</td>\n",
       "    </tr>\n",
       "  </tbody>\n",
       "</table>\n",
       "</div>"
      ],
      "text/plain": [
       "    Name Country  Age      Job\n",
       "0   John     USA   31  Student\n",
       "1  Sabre  France   33   Lawyer\n",
       "2    Kim   Korea   28     Chef"
      ]
     },
     "execution_count": 3,
     "metadata": {},
     "output_type": "execute_result"
    }
   ],
   "source": [
    "# 데이터프레임 df1 생성\n",
    "\n",
    "import pandas as pd\n",
    "\n",
    "person_dict = {'Name' : ['John', 'Sabre', 'Kim'],\n",
    "              'Country' : ['USA', 'France', 'Korea'],\n",
    "              'Age' : [31, 33, 28],\n",
    "              'Job' : ['Student', 'Lawyer', 'Chef']}\n",
    "\n",
    "df1 = pd.DataFrame(data = person_dict, columns = ['Name', 'Country', 'Age', 'Job'])\n",
    "\n",
    "df1"
   ]
  },
  {
   "cell_type": "code",
   "execution_count": 5,
   "id": "304b5b0e",
   "metadata": {},
   "outputs": [
    {
     "name": "stdout",
     "output_type": "stream",
     "text": [
      "Collecting xlwt\n",
      "  Using cached xlwt-1.3.0-py2.py3-none-any.whl (99 kB)\n",
      "Installing collected packages: xlwt\n",
      "Successfully installed xlwt-1.3.0\n",
      "Note: you may need to restart the kernel to use updated packages.\n"
     ]
    },
    {
     "name": "stderr",
     "output_type": "stream",
     "text": [
      "WARNING: You are using pip version 22.0.3; however, version 22.0.4 is available.\n",
      "You should consider upgrading via the 'c:\\python\\python.exe -m pip install --upgrade pip' command.\n"
     ]
    }
   ],
   "source": [
    "pip install xlwt"
   ]
  },
  {
   "cell_type": "code",
   "execution_count": 6,
   "id": "a3417f71",
   "metadata": {},
   "outputs": [
    {
     "name": "stdout",
     "output_type": "stream",
     "text": [
      "Collecting openpyxl\n",
      "  Using cached openpyxl-3.0.9-py2.py3-none-any.whl (242 kB)\n",
      "Collecting et-xmlfile\n",
      "  Using cached et_xmlfile-1.1.0-py3-none-any.whl (4.7 kB)\n",
      "Installing collected packages: et-xmlfile, openpyxl\n",
      "Successfully installed et-xmlfile-1.1.0 openpyxl-3.0.9\n",
      "Note: you may need to restart the kernel to use updated packages.\n"
     ]
    },
    {
     "name": "stderr",
     "output_type": "stream",
     "text": [
      "WARNING: You are using pip version 22.0.3; however, version 22.0.4 is available.\n",
      "You should consider upgrading via the 'c:\\python\\python.exe -m pip install --upgrade pip' command.\n"
     ]
    }
   ],
   "source": [
    "pip install openpyxl"
   ]
  },
  {
   "cell_type": "code",
   "execution_count": 8,
   "id": "f2a07ead",
   "metadata": {},
   "outputs": [
    {
     "name": "stderr",
     "output_type": "stream",
     "text": [
      "C:\\Users\\서경덕\\AppData\\Local\\Temp/ipykernel_26880/2457831077.py:6: FutureWarning: As the xlwt package is no longer maintained, the xlwt engine will be removed in a future version of pandas. This is the only engine in pandas that supports writing in the xls format. Install openpyxl and write to an xlsx file instead. You can set the option io.excel.xls.writer to 'xlwt' to silence this warning. While this option is deprecated and will also raise a warning, it can be globally set and the warning suppressed.\n",
      "  df1.to_excel('persons_03.xls')\n"
     ]
    }
   ],
   "source": [
    "# 데이터프레임을 엑셀 파일로 저장\n",
    "\n",
    "# 데이터프레임을 엑셀의 xls 형식으로 저장\n",
    "import xlwt\n",
    "\n",
    "df1.to_excel('persons_03.xls')\n",
    "\n",
    "import openpyxl\n",
    "\n",
    "df1.to_excel('persons_03.xlsx')"
   ]
  },
  {
   "cell_type": "markdown",
   "id": "a8db31d0",
   "metadata": {},
   "source": [
    "데이터프레임 JSON 파일로 저장하기"
   ]
  },
  {
   "cell_type": "markdown",
   "id": "5ca3c57c",
   "metadata": {},
   "source": [
    "- JSON (JavaScript Object Notation)은 네트워크를 통해 데이터를 주고받을 때 자주 사용되고 표준화된 경량 (light) 데이터 형식이며, to_json(...) 함수를 사용하여 데이터프레임을 JSON 파일로 저장 할 수 있음."
   ]
  },
  {
   "cell_type": "code",
   "execution_count": 9,
   "id": "5aa71bd1",
   "metadata": {},
   "outputs": [
    {
     "data": {
      "text/html": [
       "<div>\n",
       "<style scoped>\n",
       "    .dataframe tbody tr th:only-of-type {\n",
       "        vertical-align: middle;\n",
       "    }\n",
       "\n",
       "    .dataframe tbody tr th {\n",
       "        vertical-align: top;\n",
       "    }\n",
       "\n",
       "    .dataframe thead th {\n",
       "        text-align: right;\n",
       "    }\n",
       "</style>\n",
       "<table border=\"1\" class=\"dataframe\">\n",
       "  <thead>\n",
       "    <tr style=\"text-align: right;\">\n",
       "      <th></th>\n",
       "      <th>Name</th>\n",
       "      <th>Country</th>\n",
       "      <th>Age</th>\n",
       "      <th>Job</th>\n",
       "    </tr>\n",
       "  </thead>\n",
       "  <tbody>\n",
       "    <tr>\n",
       "      <th>0</th>\n",
       "      <td>John</td>\n",
       "      <td>USA</td>\n",
       "      <td>31</td>\n",
       "      <td>Student</td>\n",
       "    </tr>\n",
       "    <tr>\n",
       "      <th>1</th>\n",
       "      <td>Sabre</td>\n",
       "      <td>France</td>\n",
       "      <td>33</td>\n",
       "      <td>Lawyer</td>\n",
       "    </tr>\n",
       "    <tr>\n",
       "      <th>2</th>\n",
       "      <td>Kim</td>\n",
       "      <td>Korea</td>\n",
       "      <td>28</td>\n",
       "      <td>Chef</td>\n",
       "    </tr>\n",
       "  </tbody>\n",
       "</table>\n",
       "</div>"
      ],
      "text/plain": [
       "    Name Country  Age      Job\n",
       "0   John     USA   31  Student\n",
       "1  Sabre  France   33   Lawyer\n",
       "2    Kim   Korea   28     Chef"
      ]
     },
     "execution_count": 9,
     "metadata": {},
     "output_type": "execute_result"
    }
   ],
   "source": [
    "# 데이터프레임 df1 생성\n",
    "\n",
    "import pandas as pd\n",
    "\n",
    "person_dict = {'Name' : ['John', 'Sabre', 'Kim'],\n",
    "              'Country' : ['USA', 'France', 'Korea'],\n",
    "              'Age' : [31, 33, 28],\n",
    "              'Job' : ['Student', 'Lawyer', 'Chef']}\n",
    "\n",
    "df1 = pd.DataFrame(data = person_dict, columns = ['Name', 'Country', 'Age', 'Job'])\n",
    "\n",
    "df1"
   ]
  },
  {
   "cell_type": "code",
   "execution_count": 10,
   "id": "3aff6ac4",
   "metadata": {},
   "outputs": [],
   "source": [
    "# 데이터프레임을 JSON 파일로 저장\n",
    "df1.to_json('person_04.json')"
   ]
  }
 ],
 "metadata": {
  "kernelspec": {
   "display_name": "Python 3 (ipykernel)",
   "language": "python",
   "name": "python3"
  },
  "language_info": {
   "codemirror_mode": {
    "name": "ipython",
    "version": 3
   },
   "file_extension": ".py",
   "mimetype": "text/x-python",
   "name": "python",
   "nbconvert_exporter": "python",
   "pygments_lexer": "ipython3",
   "version": "3.9.6"
  }
 },
 "nbformat": 4,
 "nbformat_minor": 5
}
