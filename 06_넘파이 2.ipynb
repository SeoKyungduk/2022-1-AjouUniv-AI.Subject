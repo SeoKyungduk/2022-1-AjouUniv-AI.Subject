{
 "cells": [
  {
   "cell_type": "markdown",
   "id": "d7d958c0",
   "metadata": {},
   "source": [
    "# 라이브러리 - numpy 행렬곱 (dot product) (1)"
   ]
  },
  {
   "cell_type": "markdown",
   "id": "46f96700",
   "metadata": {},
   "source": [
    "- 행렬 곱(dot product)\n",
    "- => A 행렬과 B 행렬의 행렬 곱 (dot product)는 np.dot(A, B)로 나타내며, 행렬 A의 열 벡터와 B 행렬의 행 벡터가 같아야 함. 만약 같지 않다면 reshape 또는 전치행렬(transpose)등을 사용하여 형 변환을 한 후에 행렬 곱을 실행해야 함."
   ]
  },
  {
   "cell_type": "code",
   "execution_count": 2,
   "id": "8fcd5856",
   "metadata": {},
   "outputs": [
    {
     "name": "stdout",
     "output_type": "stream",
     "text": [
      "A.shape == (2, 3) , B.shape == (3, 2)\n",
      "C.shape == (2, 2)\n",
      "[[-22 -28]\n",
      " [-49 -64]]\n"
     ]
    }
   ],
   "source": [
    "import numpy as np\n",
    "\n",
    "A = np.array([[1, 2, 3], [4, 5, 6]]) # 2 X 3 행렬\n",
    "B = np.array([[-1, -2], [-3, -4], [-5, -6]]) # 3 X 2 행렬\n",
    "\n",
    "# (2 X 3) dot product (3 X 2) == (2 X 2) 행렬\n",
    "C = np.dot(A, B) # 행렬 곱 수행\n",
    "\n",
    "# matrix A, B 형상 출력 => shape\n",
    "print(\"A.shape ==\", A.shape, \", B.shape ==\", B.shape)\n",
    "print(\"C.shape ==\", C.shape)\n",
    "print(C)"
   ]
  },
  {
   "cell_type": "markdown",
   "id": "01451e81",
   "metadata": {},
   "source": [
    "# 라이브러리 - numpy 행렬곱 (dot product) (2)"
   ]
  },
  {
   "cell_type": "markdown",
   "id": "8381ecab",
   "metadata": {},
   "source": [
    "- 행렬 곱(dot product)\n",
    "- => 행렬 곱은, 행렬의 원소 개수가 같아야만 계산할 수 있는 사칙연산의 한계를 벗어나\n",
    "1. 행렬곱 조건을 만족하는 다양한 크기의 행렬을 연속으로 만들고\n",
    "2. 행렬 곱을 연속으로 계산하면서\n",
    "3. 결과값을 만들 수 있기 때문에 머신러닝과 이미지 프로세싱 분야에서 자주 사용됨.\n",
    "- [예] 입력 행렬의 sahpe이 64 X 64 이고, 결과 행렬의 shape이 64 X 10 이라면, 중간에 dot product를 만족시키는 어떤 shape의 행렬이라도 가질 수 있음.\n",
    "- 행렬 곱은 사용하지 않고 산술연산만 가능하다면, 입력 행렬의 64 X 64 크기를 가지는 특성값 만을 사용해야하기 때문에 다양한 특성을 갖는 필터 개발이 불가능함."
   ]
  },
  {
   "cell_type": "markdown",
   "id": "3d5d2b8b",
   "metadata": {},
   "source": [
    "# 라이브러리 - numpy broadcast"
   ]
  },
  {
   "cell_type": "markdown",
   "id": "34b722bd",
   "metadata": {},
   "source": [
    "- 행렬의 사칙연산은 기본적으로 두 개의 크기가 같은 경우에만 수행할 수 있음. 그러나 numpy에서는 크기가 다른 두 행렬간에도 사칙연산(+, -, *, /)을 할 수 있는데, 이를 브로드캐스트(broadcast)라고 지칭함.\n",
    "- => 차원이 작은 쪽이 큰 쪽의 행 단위로 반복적으로 크기를 맞춘 후에 계산"
   ]
  },
  {
   "cell_type": "code",
   "execution_count": 3,
   "id": "fd8cf816",
   "metadata": {},
   "outputs": [
    {
     "name": "stdout",
     "output_type": "stream",
     "text": [
      "[[6 7]\n",
      " [8 9]]\n"
     ]
    }
   ],
   "source": [
    "# scalar broadcast\n",
    "\n",
    "A = np.array([[1, 2], [3, 4]])\n",
    "b = 5\n",
    "\n",
    "print(A + b)"
   ]
  },
  {
   "cell_type": "code",
   "execution_count": 4,
   "id": "19cd8e2d",
   "metadata": {},
   "outputs": [
    {
     "name": "stdout",
     "output_type": "stream",
     "text": [
      "[[5 7]\n",
      " [7 9]]\n"
     ]
    }
   ],
   "source": [
    "# matrix broadcast\n",
    "\n",
    "C = np.array([[1, 2], [3, 4]])\n",
    "D = np.array([4, 5])\n",
    "\n",
    "print(C + D)"
   ]
  },
  {
   "cell_type": "markdown",
   "id": "c456ad2f",
   "metadata": {},
   "source": [
    "# 라이브러리 - numpy 전치행렬(transpose)"
   ]
  },
  {
   "cell_type": "markdown",
   "id": "58a054ff",
   "metadata": {},
   "source": [
    "- 전치행렬 (transpose)\n",
    "- => 어떤 행렬의 전치행렬(transposed matrix)은 원본 행렬의 열은 행으로, 행은 열로 바꾼 것으로서, 원본 행렬을 A라고 하면 전치 행렬은 AT로 나타냄.\n",
    "- 즉, 1행은 1열로 바꾸고 2행은 2열로, 3행은 3열로 바꾼 행렬을 의미"
   ]
  },
  {
   "cell_type": "code",
   "execution_count": 6,
   "id": "75026137",
   "metadata": {},
   "outputs": [
    {
     "name": "stdout",
     "output_type": "stream",
     "text": [
      "A.shape == (3, 2) , B,shape == (2, 3)\n",
      "[[1 2]\n",
      " [3 4]\n",
      " [5 6]]\n",
      "-----------\n",
      "[[1 3 5]\n",
      " [2 4 6]]\n"
     ]
    }
   ],
   "source": [
    "# 전치행렬\n",
    "\n",
    "A = np.array([[1, 2], [3, 4], [5, 6]]) # 3 X 2 행렬\n",
    "\n",
    "B = A.T # A의 전치행렬, 2 X 3 행렬\n",
    "\n",
    "print(\"A.shape ==\", A.shape, \", B,shape ==\", B.shape)\n",
    "print(A)\n",
    "print('-----------')\n",
    "print(B)"
   ]
  },
  {
   "cell_type": "code",
   "execution_count": 8,
   "id": "d6e65ca6",
   "metadata": {},
   "outputs": [
    {
     "name": "stdout",
     "output_type": "stream",
     "text": [
      "C.shape == (5,) , D.shape == (5,)\n",
      "-----------\n",
      "E.shape == (1, 5) , F.shape == (5, 1)\n",
      "-----------\n",
      "[[1]\n",
      " [2]\n",
      " [3]\n",
      " [4]\n",
      " [5]]\n"
     ]
    }
   ],
   "source": [
    "# vector 전치행렬\n",
    "\n",
    "C = np.array([1, 2, 3, 4, 5]) # vector, matrix 아님\n",
    "D = C.T # C는 vector이므로 transpose 안됨\n",
    "\n",
    "E = C.reshape(1, 5) # 1 X 5 matrix\n",
    "F = E.T # E의 전치행렬\n",
    "\n",
    "print(\"C.shape ==\", C.shape, \", D.shape ==\", D.shape)\n",
    "print('-----------')\n",
    "print(\"E.shape ==\", E.shape, \", F.shape ==\", F.shape)\n",
    "print('-----------')\n",
    "print(F)"
   ]
  },
  {
   "cell_type": "markdown",
   "id": "2a1e8670",
   "metadata": {},
   "source": [
    "# 라이브러리 - numpy 행렬 indexing / slicing"
   ]
  },
  {
   "cell_type": "markdown",
   "id": "b3c903ce",
   "metadata": {},
   "source": [
    "- 행렬 원소 접근 (1)\n",
    "- => 행렬 원소를 명시적(explicit)으로 접근하기 위해서는 리스트(list)에서 처럼, 인덱싱 / 슬라이싱 모두 사용 가능 함."
   ]
  },
  {
   "cell_type": "code",
   "execution_count": 15,
   "id": "c3513d44",
   "metadata": {},
   "outputs": [
    {
     "name": "stdout",
     "output_type": "stream",
     "text": [
      "A.shape == (3, 2)\n",
      "[[10 20]\n",
      " [30 40]\n",
      " [50 60]]\n"
     ]
    }
   ],
   "source": [
    "# reshape\n",
    "\n",
    "A = np.array([10, 20, 30, 40, 50, 60]).reshape(3, 2)\n",
    "\n",
    "print(\"A.shape ==\", A.shape)\n",
    "print(A)"
   ]
  },
  {
   "cell_type": "code",
   "execution_count": 16,
   "id": "5c96fb3e",
   "metadata": {},
   "outputs": [
    {
     "name": "stdout",
     "output_type": "stream",
     "text": [
      "A[0, 0] == 10 , A[0][0] == 10\n",
      "A[2, 1] == 60 , A[2][1] == 60\n",
      "-----------\n",
      "A[0:-1, 1:2] == [[20]\n",
      " [40]]\n",
      "-----------\n",
      "A[:, 0] == [10 30 50]\n",
      "-----------\n",
      "A[:, :] == [[10 20]\n",
      " [30 40]\n",
      " [50 60]]\n"
     ]
    }
   ],
   "source": [
    "# indexing / slicing\n",
    "\n",
    "print(\"A[0, 0] ==\", A[0, 0], \", A[0][0] ==\", A[0][0]) # 1행 1열\n",
    "print(\"A[2, 1] ==\", A[2, 1], \", A[2][1] ==\", A[2][1]) # 3행 2열\n",
    "print('-----------')\n",
    "# 인덱스 0인 1행부터, 인덱스 -1 -1 = -2인 2행까지의 모든 데이터,\n",
    "# 그리고 인덱스 1인 2열부터 인덱스 2-1 = 1인 2열까지의 모든 데이터\n",
    "print(\"A[0:-1, 1:2] ==\", A[0:-1, 1:2])\n",
    "print('-----------')\n",
    "print(\"A[:, 0] ==\", A[:, 0]) # 모든 행 1열\n",
    "print('-----------')\n",
    "print(\"A[:, :] ==\", A[:, :]) # 모든 행, 모든 열"
   ]
  },
  {
   "cell_type": "markdown",
   "id": "c29fb1c6",
   "metadata": {},
   "source": [
    "# 라이브러리 - numpy 행렬 indexing / slicing"
   ]
  },
  {
   "cell_type": "markdown",
   "id": "7284235c",
   "metadata": {},
   "source": [
    "- 행렬 원소 접근 (2)\n",
    "- => 명시적(explicit) 인덱싱 / 슬라이싱 이외에, 행렬 모든 원소를 access 하는 경우에는 iterator 사용 가능"
   ]
  },
  {
   "cell_type": "code",
   "execution_count": 21,
   "id": "0cbb1895",
   "metadata": {},
   "outputs": [
    {
     "name": "stdout",
     "output_type": "stream",
     "text": [
      "[[10 20 30 40]\n",
      " [50 60 70 80]] \n",
      "\n",
      "A.shape == (2, 4) \n",
      "\n",
      "current value => 10\n",
      "current value => 20\n",
      "current value => 30\n",
      "current value => 40\n",
      "current value => 50\n",
      "current value => 60\n",
      "current value => 70\n",
      "current value => 80\n"
     ]
    }
   ],
   "source": [
    "# iterator 예제\n",
    "\n",
    "A = np.array([[10, 20, 30, 40], [50, 60, 70, 80]]) # 2 X 4 행렬\n",
    "\n",
    "print(A, \"\\n\")\n",
    "print(\"A.shape ==\", A.shape, \"\\n\")\n",
    "\n",
    "# 행렬 A의 itrator 생성\n",
    "\n",
    "it = np.nditer(A, flags = ['multi_index'], op_flags = ['readwrite'])\n",
    "\n",
    "while not it.finished:\n",
    "    \n",
    "    idx = it.multi_index\n",
    "    \n",
    "    print(\"current value =>\", A[idx])\n",
    "    \n",
    "    it.iternext()"
   ]
  },
  {
   "cell_type": "code",
   "execution_count": null,
   "id": "8d94a79a",
   "metadata": {},
   "outputs": [],
   "source": []
  }
 ],
 "metadata": {
  "kernelspec": {
   "display_name": "Python 3 (ipykernel)",
   "language": "python",
   "name": "python3"
  },
  "language_info": {
   "codemirror_mode": {
    "name": "ipython",
    "version": 3
   },
   "file_extension": ".py",
   "mimetype": "text/x-python",
   "name": "python",
   "nbconvert_exporter": "python",
   "pygments_lexer": "ipython3",
   "version": "3.9.6"
  }
 },
 "nbformat": 4,
 "nbformat_minor": 5
}
